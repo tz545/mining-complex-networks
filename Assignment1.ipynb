{
 "cells": [
  {
   "cell_type": "code",
   "execution_count": 1,
   "id": "b02291e2",
   "metadata": {},
   "outputs": [],
   "source": [
    "import pandas as pd\n",
    "import igraph as ig\n",
    "import numpy as np\n",
    "import matplotlib.pyplot as plt\n",
    "from sklearn.linear_model import LinearRegression\n",
    "from collections import deque"
   ]
  },
  {
   "cell_type": "code",
   "execution_count": 2,
   "id": "c0b0a442",
   "metadata": {},
   "outputs": [],
   "source": [
    "datadir='../Datasets/'"
   ]
  },
  {
   "cell_type": "markdown",
   "id": "61e6460f",
   "metadata": {},
   "source": [
    "### Problem 2\n",
    "\n",
    "The link to the Grid network (Europe) also has data for North America. Perform a similar type of EDA as in Section 1.12 (in particular, replicate Table 1.1) for that graph, including getting and preparing the data."
   ]
  },
  {
   "cell_type": "code",
   "execution_count": 3,
   "id": "52524d34",
   "metadata": {},
   "outputs": [],
   "source": [
    "## reading raw data files, choosing only the required columns, and saving in processed format\n",
    "vertices_raw = pd.read_csv(datadir + 'GridNorthAmerica/gridkit_north_america-highvoltage-vertices.csv')\n",
    "vertices_header = ['v_id', 'lon', 'lat', 'typ']\n",
    "vertices_raw.to_csv(datadir + 'GridNorthAmerica/gridkit_north_america-highvoltage.vertices', columns=vertices_header, index=False)\n",
    "\n",
    "edges_raw = pd.read_csv(datadir + 'GridNorthAmerica/gridkit_north_america-highvoltage-links.csv')\n",
    "edges_header = ['v_id_1', 'v_id_2']\n",
    "edges_raw.to_csv(datadir + 'GridNorthAmerica/gridkit_north_america-highvoltage.edges', columns=edges_header, index=False, header=False, sep=' ')"
   ]
  },
  {
   "cell_type": "code",
   "execution_count": 17,
   "id": "1f694a5b",
   "metadata": {},
   "outputs": [
    {
     "data": {
      "text/html": [
       "<div>\n",
       "<style scoped>\n",
       "    .dataframe tbody tr th:only-of-type {\n",
       "        vertical-align: middle;\n",
       "    }\n",
       "\n",
       "    .dataframe tbody tr th {\n",
       "        vertical-align: top;\n",
       "    }\n",
       "\n",
       "    .dataframe thead th {\n",
       "        text-align: right;\n",
       "    }\n",
       "</style>\n",
       "<table border=\"1\" class=\"dataframe\">\n",
       "  <thead>\n",
       "    <tr style=\"text-align: right;\">\n",
       "      <th></th>\n",
       "      <th>0</th>\n",
       "    </tr>\n",
       "  </thead>\n",
       "  <tbody>\n",
       "    <tr>\n",
       "      <th>graph</th>\n",
       "      <td>Grid</td>\n",
       "    </tr>\n",
       "    <tr>\n",
       "      <th>nodes</th>\n",
       "      <td>16167</td>\n",
       "    </tr>\n",
       "    <tr>\n",
       "      <th>edges</th>\n",
       "      <td>20242</td>\n",
       "    </tr>\n",
       "    <tr>\n",
       "      <th>$d_{min}$</th>\n",
       "      <td>1</td>\n",
       "    </tr>\n",
       "    <tr>\n",
       "      <th>$d_{mean}$</th>\n",
       "      <td>2.504113</td>\n",
       "    </tr>\n",
       "    <tr>\n",
       "      <th>$d_{median}$</th>\n",
       "      <td>2.0</td>\n",
       "    </tr>\n",
       "    <tr>\n",
       "      <th>$d_{quant_{99}}$</th>\n",
       "      <td>7.0</td>\n",
       "    </tr>\n",
       "    <tr>\n",
       "      <th>$d_{max}$</th>\n",
       "      <td>22</td>\n",
       "    </tr>\n",
       "    <tr>\n",
       "      <th>diameter</th>\n",
       "      <td>138</td>\n",
       "    </tr>\n",
       "    <tr>\n",
       "      <th>components</th>\n",
       "      <td>34</td>\n",
       "    </tr>\n",
       "    <tr>\n",
       "      <th>largest</th>\n",
       "      <td>14990</td>\n",
       "    </tr>\n",
       "    <tr>\n",
       "      <th>isolates</th>\n",
       "      <td>0</td>\n",
       "    </tr>\n",
       "    <tr>\n",
       "      <th>$C_{glob}$</th>\n",
       "      <td>0.102377</td>\n",
       "    </tr>\n",
       "    <tr>\n",
       "      <th>$C_{loc}$</th>\n",
       "      <td>0.104157</td>\n",
       "    </tr>\n",
       "  </tbody>\n",
       "</table>\n",
       "</div>"
      ],
      "text/plain": [
       "                         0\n",
       "graph                 Grid\n",
       "nodes                16167\n",
       "edges                20242\n",
       "$d_{min}$                1\n",
       "$d_{mean}$        2.504113\n",
       "$d_{median}$           2.0\n",
       "$d_{quant_{99}}$       7.0\n",
       "$d_{max}$               22\n",
       "diameter               138\n",
       "components              34\n",
       "largest              14990\n",
       "isolates                 0\n",
       "$C_{glob}$        0.102377\n",
       "$C_{loc}$         0.104157"
      ]
     },
     "execution_count": 17,
     "metadata": {},
     "output_type": "execute_result"
    }
   ],
   "source": [
    "## build graph from edge list\n",
    "gr = ig.Graph.Read_Ncol(datadir+'GridNorthAmerica/gridkit_north_america-highvoltage.edges', directed=False)\n",
    "gr = gr.simplify()\n",
    "\n",
    "## compute Table 1.1 quantities for the NA Grid network\n",
    "def baseStats(G):\n",
    "    deg = G.degree()\n",
    "    return [G.vcount(),G.ecount(),np.min(deg),np.mean(deg),np.median(deg),np.quantile(deg,.99),\n",
    "            np.max(deg),G.diameter(),np.max(G.clusters().membership)+1,G.clusters().giant().vcount(),\n",
    "            sum([x==0 for x in G.degree()]),G.transitivity_undirected(mode='nan'),\n",
    "            G.transitivity_avglocal_undirected(mode='nan')]\n",
    "S = []\n",
    "S.append(['Grid'] + baseStats(gr))\n",
    "D = pd.DataFrame(S,columns=['graph','nodes','edges',r'$d_{min}$',r'$d_{mean}$',r'$d_{median}$',\n",
    "                            r'$d_{quant_{99}}$',r'$d_{max}$','diameter','components','largest',\n",
    "                            'isolates',r'$C_{glob}$',r'$C_{loc}$']).transpose()\n",
    "D"
   ]
  },
  {
   "cell_type": "markdown",
   "id": "00c9abc6",
   "metadata": {},
   "source": [
    "### Problem 3\n",
    "\n",
    "Consider the GitHub (ml) graph on 9739 nodes\n",
    "1. Find the number of walks of length 5."
   ]
  },
  {
   "cell_type": "code",
   "execution_count": 3,
   "id": "700abe8a",
   "metadata": {},
   "outputs": [],
   "source": [
    "## read edges and make graph\n",
    "github_df = pd.read_csv(datadir+'GitHubDevelopers/musae_git_edges.csv')\n",
    "gh = ig.Graph.DataFrame(github_df, directed=False)\n",
    "\n",
    "## read node features\n",
    "X = pd.read_csv(datadir+'GitHubDevelopers/musae_git_target.csv')\n",
    "\n",
    "## map node names in edgelist to indices in the graph\n",
    "idx = [int(i) for i in gh.vs['name']]\n",
    "sorterIndex = dict(zip(idx,range(len(idx))))\n",
    "X['Rank'] = X['id'].map(sorterIndex) \n",
    "X.sort_values(['Rank'], ascending=[True],inplace=True)\n",
    "X.dropna(inplace=True)\n",
    "\n",
    "lbl = ['web','ml']     ## node labels\n",
    "gh.vs['lbl'] = [lbl[i] for i in list(X['ml_target'])]\n",
    "\n",
    "## build the ml subgraphs\n",
    "gh_ml = gh.subgraph([v for v in gh.vs() if v['lbl']=='ml'])"
   ]
  },
  {
   "cell_type": "code",
   "execution_count": 8,
   "id": "96930abd",
   "metadata": {},
   "outputs": [
    {
     "name": "stdout",
     "output_type": "stream",
     "text": [
      "Size of subgraph:  7431\n",
      "Size of subgraph e:  19684\n",
      "1000\n",
      "2000\n",
      "3000\n",
      "4000\n",
      "5000\n",
      "6000\n",
      "7000\n",
      "Total number of walks of length 5:  36175204754\n"
     ]
    }
   ],
   "source": [
    "## first some pre-processing to reduce the space we count over. We care only about the subgraph\n",
    "## induced by nodes of degree at least 1\n",
    "gh_ml_1p = gh_ml.subgraph([v for v in gh_ml.vs() if len(gh_ml.neighbors(v))>=1])\n",
    "print(\"Size of subgraph: \", gh_ml_1p.vcount())\n",
    "print(\"Size of subgraph e: \", gh_ml_1p.ecount())\n",
    "\n",
    "## modified DFS starting from each node to count all neighbours up to distance 4 away\n",
    "path_count = 0\n",
    "\n",
    "def DFS(v, dist):\n",
    "    global path_count\n",
    "    for next_v in gh_ml_1p.neighbors(v):\n",
    "        if dist + 1 < 5:\n",
    "            DFS(next_v, dist+1)\n",
    "        else:\n",
    "            path_count += 1\n",
    "    \n",
    "node_num = 1\n",
    "for v in gh_ml_1p.vs.indices:\n",
    "    \n",
    "    DFS(v, 0)\n",
    "\n",
    "    node_num += 1\n",
    "    if node_num % 1000 == 0:\n",
    "        print(node_num)\n",
    "            \n",
    "print(\"Total number of walks of length 5: \", path_count)"
   ]
  },
  {
   "cell_type": "markdown",
   "id": "b127d0e4",
   "metadata": {},
   "source": [
    "2. Find the number of cycles of length 4 (induced, that is, without chords)."
   ]
  },
  {
   "cell_type": "code",
   "execution_count": 5,
   "id": "5e9266d1",
   "metadata": {},
   "outputs": [
    {
     "name": "stdout",
     "output_type": "stream",
     "text": [
      "Size of subgraph:  4959\n",
      "Number of cycles of length 4:  146316\n"
     ]
    }
   ],
   "source": [
    "## We care only about the subgraph induced by nodes of degree at least 2\n",
    "gh_ml_2p = gh_ml.subgraph([v for v in gh_ml.vs() if len(gh_ml.neighbors(v))>=2])\n",
    "print(\"Size of subgraph: \", gh_ml_2p.vcount())\n",
    "\n",
    "## to get the number of cycles of length 4 (including those with chords), \n",
    "## from each node, go to each neighbour, and look for a simple path back of length 3\n",
    "all_cycles = set()\n",
    "for v in gh_ml_2p.vs():\n",
    "    neighbourlist = gh_ml_2p.neighbors(v)\n",
    "    for u in neighbourlist:\n",
    "        paths = gh_ml_2p.get_all_simple_paths(gh_ml_2p.vs[u], to=v, cutoff=3)\n",
    "        path3 = [tuple(sorted(i)) for i in paths if len(i)==4]\n",
    "        for p in path3:\n",
    "            if p not in all_cycles:\n",
    "                all_cycles.add(p)\n",
    "\n",
    "## for each unique cycle, check if there are chords \n",
    "## if there are no chords, taking the intersection of all neighbours of nodes on a cycle, and then the intersection\n",
    "## with all the nodes in the cycle, will return an empty set\n",
    "chordless_cycles = 0\n",
    "for cycle in all_cycles:\n",
    "    neighbours_sets = []\n",
    "    for v in cycle:\n",
    "        neighbours_sets.append(set(gh_ml_2p.neighbors(v)))\n",
    "    neighbours_intersect = neighbours_sets[0].intersection(neighbours_sets[1], neighbours_sets[2], neighbours_sets[3])\n",
    "    if set(cycle).intersection(neighbours_intersect) == set():\n",
    "        chordless_cycles += 1\n",
    "        \n",
    "print(\"Number of cycles of length 4: \", chordless_cycles)"
   ]
  },
  {
   "cell_type": "markdown",
   "id": "774b8887",
   "metadata": {},
   "source": [
    "### Problem 4\n",
    "\n",
    "Consider the airport graph. The first 3 fields are: the origin, the destination, and, respectively, the number of passengers. This graph is weighted and directed; the weight of a directed edge uv corresponds to the number of passengers travelling from airport u to airport v. \n",
    "\n",
    "1. Plot the cumulative degree distribution in a log-log plot. Find the slope of the line obtained via linear regression.\n"
   ]
  },
  {
   "cell_type": "code",
   "execution_count": 74,
   "id": "0e8a8723",
   "metadata": {},
   "outputs": [
    {
     "name": "stdout",
     "output_type": "stream",
     "text": [
      "power law exponent: 0.058376556378227765\n"
     ]
    },
    {
     "data": {
      "text/plain": [
       "Text(0, 0.5, 'log(No. nodes with smaller or equal degree)')"
      ]
     },
     "execution_count": 74,
     "metadata": {},
     "output_type": "execute_result"
    },
    {
     "data": {
      "image/png": "[encoded data removed]",
      "text/plain": [
       "<Figure size 432x288 with 1 Axes>"
      ]
     },
     "metadata": {
      "needs_background": "light"
     },
     "output_type": "display_data"
    }
   ],
   "source": [
    "## read edges and make graph\n",
    "airports_df = pd.read_csv(datadir+'Airport/connections.csv')\n",
    "tuples = [tuple(x) for x in airports_df.values]\n",
    "\n",
    "## get degree list and calculate cumulative distribution\n",
    "ga = ig.Graph.TupleList(tuples, directed = True, edge_attrs = [\"weight\"])\n",
    "degrees = np.array(ga.strength(weights=\"weight\"))\n",
    "degrees = degrees[degrees>=1]\n",
    "degree_distribution = np.histogram(degrees, bins=np.arange(min(degrees), max(degrees)+1))[0]\n",
    "cum_deg_dist = np.cumsum(degree_distribution)\n",
    "\n",
    "## plot\n",
    "x = np.arange(min(degrees), max(degrees))\n",
    "plt.loglog(x, cum_deg_dist, c='grey')\n",
    "\n",
    "## perform linear regression\n",
    "regressor = LinearRegression() \n",
    "x_log = np.log(x)\n",
    "cum_deg_dist_log = np.log(cum_deg_dist)\n",
    "regressor.fit(np.array(x_log).reshape(-1,1), cum_deg_dist_log)\n",
    "print('power law exponent:',regressor.coef_[0])\n",
    "\n",
    "plt.plot([min(degrees), max(degrees)],[np.exp(regressor.intercept_)*min(degrees)**regressor.coef_[0],np.exp(regressor.intercept_)*max(degrees)**regressor.coef_[0]],color='k')\n",
    "plt.xlabel('log(degree)')\n",
    "plt.ylabel('log(No. nodes with smaller or equal degree)')"
   ]
  },
  {
   "cell_type": "markdown",
   "id": "40167829",
   "metadata": {},
   "source": [
    "2. Find the busiest airport."
   ]
  },
  {
   "cell_type": "code",
   "execution_count": 77,
   "id": "61c9a87d",
   "metadata": {},
   "outputs": [
    {
     "name": "stdout",
     "output_type": "stream",
     "text": [
      "The busiest airport is:  ATL\n"
     ]
    }
   ],
   "source": [
    "deg_all = np.array(ga.strength(mode='all', weights=\"weight\"))\n",
    "max_ind = np.argmax(deg_all)\n",
    "print(\"The busiest airport is: \", ga.vs['name'][max_ind])"
   ]
  },
  {
   "cell_type": "markdown",
   "id": "4ba00744",
   "metadata": {},
   "source": [
    "3. Find the number of strongly connected components."
   ]
  },
  {
   "cell_type": "code",
   "execution_count": 52,
   "id": "cae38367",
   "metadata": {},
   "outputs": [
    {
     "name": "stdout",
     "output_type": "stream",
     "text": [
      "Number of strongly connected components:  40\n"
     ]
    }
   ],
   "source": [
    "strong_clusters = ga.clusters(mode='strong')\n",
    "print(\"Number of strongly connected components: \", len(strong_clusters))"
   ]
  },
  {
   "cell_type": "markdown",
   "id": "f97b03e9",
   "metadata": {},
   "source": [
    "4. Find the subgraph induced by all airports from California. Find the number of isolated nodes in this subgraph"
   ]
  },
  {
   "cell_type": "code",
   "execution_count": 58,
   "id": "992b0af4",
   "metadata": {},
   "outputs": [
    {
     "name": "stdout",
     "output_type": "stream",
     "text": [
      "Number of isolated nodes:  9\n"
     ]
    }
   ],
   "source": [
    "loc_df = pd.read_csv(datadir+'Airport/airports_loc.csv')\n",
    "cal_airports = loc_df.loc[loc_df['state']=='CA']\n",
    "cal_ap_names = cal_airports['airport'].tolist()\n",
    "\n",
    "## subgraph induced by all airports from california\n",
    "ga_cal = ga.subgraph([v for v in ga.vs() if v['name'] in cal_ap_names])\n",
    "degree = np.array(ga_cal.degree(mode='all'))\n",
    "print(\"Number of isolated nodes: \", len(degree[degree==0]))"
   ]
  },
  {
   "cell_type": "markdown",
   "id": "d603d118",
   "metadata": {},
   "source": [
    "### Problem 5\n",
    "\n",
    "Take 100 random pairs of nodes in the European Grid network. For each pair plot a point (x,y) where x is the graph distance between the two nodes and y is the corresponding geographical distance (in km). Is there a correlation between the two distances?"
   ]
  },
  {
   "cell_type": "code",
   "execution_count": 3,
   "id": "d218c911",
   "metadata": {},
   "outputs": [],
   "source": [
    "## read edge list for the grid network and build undirected graph\n",
    "gr = ig.Graph.Read_Ncol(datadir+'GridEurope/gridkit_europe-highvoltage.edges', directed=False)\n",
    "gr = gr.simplify()\n",
    "\n",
    "## read the vertices along with some of the attributes\n",
    "X = pd.read_csv(datadir+'GridEurope/gridkit_europe-highvoltage.vertices')\n",
    "idx = [int(i) for i in gr.vs['name']]\n",
    "sorterIndex = dict(zip(idx,range(len(idx))))\n",
    "X['Rank'] = X['v_id'].map(sorterIndex)\n",
    "X.sort_values(['Rank'], ascending=[True],inplace=True)\n",
    "X.dropna(inplace=True)\n",
    "gr.vs['longitude'] = list(X['lon'])\n",
    "gr.vs['latitude'] = list(X['lat'])\n",
    "gr.vs['type'] = list(X['typ'])\n",
    "gr.vs['layout'] = [(v['longitude'],v['latitude']) for v in gr.vs()] ## tuples with lat/lon\n",
    "gr.vs['size'] = 3\n",
    "gr.es['color'] = 'grey'\n",
    "gr.vs['color'] = 'black'"
   ]
  },
  {
   "cell_type": "code",
   "execution_count": 16,
   "id": "b0b52d80",
   "metadata": {
    "scrolled": true
   },
   "outputs": [
    {
     "data": {
      "image/png": "[encoded data removed]",
      "text/plain": [
       "<Figure size 432x288 with 1 Axes>"
      ]
     },
     "metadata": {
      "needs_background": "light"
     },
     "output_type": "display_data"
    }
   ],
   "source": [
    "from geopy import distance\n",
    "\n",
    "N = 100\n",
    "\n",
    "sample_vertices = np.random.choice(gr.vs.indices, size=N, replace=False)\n",
    "\n",
    "graph_dist = np.zeros([N, N])\n",
    "geo_dist = np.zeros([N, N])\n",
    "\n",
    "for i in range(len(sample_vertices)):\n",
    "    for j in range(i):\n",
    "        u = sample_vertices[i]\n",
    "        v = sample_vertices[j]\n",
    "        graph_dist[i,j] = gr.shortest_paths(source=u, target=v)[0][0]\n",
    "        geo_dist[i,j] = distance.distance((gr.vs['latitude'][u], gr.vs['longitude'][u]), (gr.vs['latitude'][v], gr.vs['longitude'][v])).km\n",
    "        \n",
    "graph_dist = graph_dist.flatten()\n",
    "geo_dist = geo_dist.flatten()\n",
    "\n",
    "plt.scatter(graph_dist[graph_dist!=0], geo_dist[graph_dist!=0], c='k', alpha=0.1)\n",
    "plt.xlabel(\"Graph distance\")\n",
    "plt.ylabel(\"Geographical distance (km)\")\n",
    "plt.show()\n",
    "        \n"
   ]
  },
  {
   "cell_type": "code",
   "execution_count": null,
   "id": "a031b798",
   "metadata": {},
   "outputs": [],
   "source": []
  }
 ],
 "metadata": {
  "kernelspec": {
   "display_name": "Python 3",
   "language": "python",
   "name": "python3"
  },
  "language_info": {
   "codemirror_mode": {
    "name": "ipython",
    "version": 3
   },
   "file_extension": ".py",
   "mimetype": "text/x-python",
   "name": "python",
   "nbconvert_exporter": "python",
   "pygments_lexer": "ipython3",
   "version": "3.7.11"
  }
 },
 "nbformat": 4,
 "nbformat_minor": 5
}
