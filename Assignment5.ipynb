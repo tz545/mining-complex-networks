{
 "cells": [
  {
   "cell_type": "code",
   "execution_count": 1,
   "id": "7e256ad8",
   "metadata": {},
   "outputs": [],
   "source": [
    "import igraph as ig\n",
    "import numpy as np\n",
    "import pandas as pd\n",
    "from sklearn.metrics import adjusted_mutual_info_score as AMI"
   ]
  },
  {
   "cell_type": "code",
   "execution_count": 2,
   "id": "4b61a1af",
   "metadata": {},
   "outputs": [],
   "source": [
    "datadir='../Datasets/'"
   ]
  },
  {
   "cell_type": "markdown",
   "id": "cda4d172",
   "metadata": {},
   "source": [
    "### Problem 1\n",
    "\n",
    "Run various clustering algorithms (ECG, Louvain, Infomap, Label Propagation, Girvan-Newman, and CNM) for the karate club graph. For each algorithm tested, compare the partition found by the algorithm with the ground-truth (two communities) by computing the AMI score"
   ]
  },
  {
   "cell_type": "code",
   "execution_count": 3,
   "id": "bf87f30d",
   "metadata": {},
   "outputs": [],
   "source": [
    "z = ig.Graph.Famous('zachary')\n",
    "z.vs['comm'] = [0,0,0,0,0,0,0,0,1,1,0,0,0,0,1,1,0,0,1,0,1,0,1,1,1,1,1,1,1,1,1,1,1,1]"
   ]
  },
  {
   "cell_type": "code",
   "execution_count": 4,
   "id": "0c37dded",
   "metadata": {},
   "outputs": [],
   "source": [
    "# copied GitHub code to add ECG to the choice of community algorithms\n",
    "def community_ecg(self, weights=None, ens_size=16, min_weight=0.05):\n",
    "    W = [0]*self.ecount()\n",
    "    ## Ensemble of level-1 Louvain \n",
    "    for i in range(ens_size):\n",
    "        p = np.random.permutation(self.vcount()).tolist()\n",
    "        g = self.permute_vertices(p)\n",
    "        l = g.community_multilevel(weights=weights, return_levels=True)[0].membership\n",
    "        b = [l[p[x.tuple[0]]]==l[p[x.tuple[1]]] for x in self.es]\n",
    "        W = [W[i]+b[i] for i in range(len(W))]\n",
    "    W = [min_weight + (1-min_weight)*W[i]/ens_size for i in range(len(W))]\n",
    "    ## Force min_weight outside 2-core\n",
    "    core = self.shell_index()\n",
    "    ecore = [min(core[x.tuple[0]],core[x.tuple[1]]) for x in self.es]\n",
    "    w = [W[i] if ecore[i]>1 else min_weight for i in range(len(ecore))]\n",
    "    part = self.community_multilevel(weights=w)\n",
    "    part.W = w\n",
    "    part.CSI = 1-2*np.sum([min(1-i,i) for i in w])/len(w)\n",
    "    return part\n",
    "ig.Graph.community_ecg = community_ecg"
   ]
  },
  {
   "cell_type": "markdown",
   "id": "543cd97f",
   "metadata": {},
   "source": [
    "ECG:"
   ]
  },
  {
   "cell_type": "code",
   "execution_count": 5,
   "id": "20876201",
   "metadata": {},
   "outputs": [
    {
     "name": "stdout",
     "output_type": "stream",
     "text": [
      "AMI: 0.5805154226518418\n"
     ]
    }
   ],
   "source": [
    "ecg = z.community_ecg().membership\n",
    "print('AMI:',AMI(z.vs['comm'],ecg))"
   ]
  },
  {
   "cell_type": "markdown",
   "id": "b639c988",
   "metadata": {},
   "source": [
    "Louvain:"
   ]
  },
  {
   "cell_type": "code",
   "execution_count": 6,
   "id": "3817f655",
   "metadata": {},
   "outputs": [
    {
     "name": "stdout",
     "output_type": "stream",
     "text": [
      "AMI: 0.5653497612707893\n"
     ]
    }
   ],
   "source": [
    "louvain = z.community_multilevel().membership\n",
    "print('AMI:',AMI(z.vs['comm'],louvain))"
   ]
  },
  {
   "cell_type": "markdown",
   "id": "131442a3",
   "metadata": {},
   "source": [
    "Infomap:"
   ]
  },
  {
   "cell_type": "code",
   "execution_count": 7,
   "id": "86969a6e",
   "metadata": {},
   "outputs": [
    {
     "name": "stdout",
     "output_type": "stream",
     "text": [
      "AMI: 0.687422347904921\n"
     ]
    }
   ],
   "source": [
    "infomap = z.community_infomap().membership\n",
    "print('AMI:',AMI(z.vs['comm'],infomap))"
   ]
  },
  {
   "cell_type": "markdown",
   "id": "57a9de4a",
   "metadata": {},
   "source": [
    "Label Propagation:"
   ]
  },
  {
   "cell_type": "code",
   "execution_count": 8,
   "id": "ae9775ea",
   "metadata": {},
   "outputs": [
    {
     "name": "stdout",
     "output_type": "stream",
     "text": [
      "AMI: 0.5443932646993975\n"
     ]
    }
   ],
   "source": [
    "lp = z.community_label_propagation().membership\n",
    "print('AMI:',AMI(z.vs['comm'],lp))"
   ]
  },
  {
   "cell_type": "markdown",
   "id": "5ac94230",
   "metadata": {},
   "source": [
    "Girvan-Newman"
   ]
  },
  {
   "cell_type": "code",
   "execution_count": 9,
   "id": "fa2a50f4",
   "metadata": {},
   "outputs": [
    {
     "name": "stdout",
     "output_type": "stream",
     "text": [
      "AMI: 0.8327564079186137\n"
     ]
    }
   ],
   "source": [
    "gn = z.community_edge_betweenness()\n",
    "print('AMI:',AMI(z.vs['comm'],gn.as_clustering(n=2).membership))"
   ]
  },
  {
   "cell_type": "markdown",
   "id": "925e7fd3",
   "metadata": {},
   "source": [
    "CNM:"
   ]
  },
  {
   "cell_type": "code",
   "execution_count": 10,
   "id": "8f18cc36",
   "metadata": {},
   "outputs": [
    {
     "name": "stdout",
     "output_type": "stream",
     "text": [
      "AMI: 0.8334659946350965\n"
     ]
    }
   ],
   "source": [
    "cnm = z.community_fastgreedy()\n",
    "print('AMI:',AMI(z.vs['comm'],cnm.as_clustering(n=2).membership))"
   ]
  },
  {
   "cell_type": "markdown",
   "id": "654b8219",
   "metadata": {},
   "source": [
    "### Problem 2\n",
    "\n",
    "Run various clustering algorithms (ECG, Louvain, Infomap, Label Propagation, Girvan-Newman and CNM) on the GitHub ml graph. Which algorithms produce similar results? In order to answer this question, for each pair of algorithms, find the AMI score between the two results. "
   ]
  },
  {
   "cell_type": "code",
   "execution_count": 11,
   "id": "904d81e8",
   "metadata": {},
   "outputs": [],
   "source": [
    "## read edges and make graph\n",
    "github_df = pd.read_csv(datadir+'GitHubDevelopers/musae_git_edges.csv')\n",
    "gh = ig.Graph.DataFrame(github_df, directed=False)\n",
    "\n",
    "## read node features\n",
    "X = pd.read_csv(datadir+'GitHubDevelopers/musae_git_target.csv')\n",
    "\n",
    "## map node names in edgelist to indices in the graph\n",
    "idx = [int(i) for i in gh.vs['name']]\n",
    "sorterIndex = dict(zip(idx,range(len(idx))))\n",
    "X['Rank'] = X['id'].map(sorterIndex) \n",
    "X.sort_values(['Rank'], ascending=[True],inplace=True)\n",
    "X.dropna(inplace=True)\n",
    "\n",
    "lbl = ['web','ml']     ## node labels\n",
    "gh.vs['lbl'] = [lbl[i] for i in list(X['ml_target'])]\n",
    "\n",
    "## build the mlsubgraph\n",
    "gh_ml = gh.subgraph([v for v in gh.vs() if v['lbl']=='ml'])"
   ]
  },
  {
   "cell_type": "code",
   "execution_count": 13,
   "id": "38f7528a",
   "metadata": {},
   "outputs": [],
   "source": [
    "ecg = gh_ml.community_ecg().membership\n",
    "louvain = gh_ml.community_multilevel().membership\n",
    "infomap = gh_ml.community_infomap().membership\n",
    "lp = gh_ml.community_label_propagation().membership"
   ]
  },
  {
   "cell_type": "code",
   "execution_count": 16,
   "id": "278e125a",
   "metadata": {},
   "outputs": [
    {
     "ename": "InternalError",
     "evalue": "Error at src/community/community_misc.c:115: Number of steps is greater than number of rows in merges matrix: found 9734 steps, 7273 rows. -- Invalid value",
     "output_type": "error",
     "traceback": [
      "\u001b[0;31m---------------------------------------------------------------------------\u001b[0m",
      "\u001b[0;31mInternalError\u001b[0m                             Traceback (most recent call last)",
      "\u001b[0;32m<ipython-input-16-fb4ffe0d9682>\u001b[0m in \u001b[0;36m<module>\u001b[0;34m\u001b[0m\n\u001b[1;32m      3\u001b[0m \u001b[0mmodularity\u001b[0m \u001b[0;34m=\u001b[0m \u001b[0mnp\u001b[0m\u001b[0;34m.\u001b[0m\u001b[0mzeros\u001b[0m\u001b[0;34m(\u001b[0m\u001b[0mlen\u001b[0m\u001b[0;34m(\u001b[0m\u001b[0mclusters\u001b[0m\u001b[0;34m)\u001b[0m\u001b[0;34m)\u001b[0m\u001b[0;34m\u001b[0m\u001b[0;34m\u001b[0m\u001b[0m\n\u001b[1;32m      4\u001b[0m \u001b[0;32mfor\u001b[0m \u001b[0mc\u001b[0m \u001b[0;32min\u001b[0m \u001b[0mrange\u001b[0m\u001b[0;34m(\u001b[0m\u001b[0mlen\u001b[0m\u001b[0;34m(\u001b[0m\u001b[0mclusters\u001b[0m\u001b[0;34m)\u001b[0m\u001b[0;34m)\u001b[0m\u001b[0;34m:\u001b[0m\u001b[0;34m\u001b[0m\u001b[0;34m\u001b[0m\u001b[0m\n\u001b[0;32m----> 5\u001b[0;31m     \u001b[0mmodularity\u001b[0m\u001b[0;34m[\u001b[0m\u001b[0mc\u001b[0m\u001b[0;34m]\u001b[0m \u001b[0;34m=\u001b[0m \u001b[0mgh_ml\u001b[0m\u001b[0;34m.\u001b[0m\u001b[0mmodularity\u001b[0m\u001b[0;34m(\u001b[0m\u001b[0mcnm\u001b[0m\u001b[0;34m.\u001b[0m\u001b[0mas_clustering\u001b[0m\u001b[0;34m(\u001b[0m\u001b[0mn\u001b[0m\u001b[0;34m=\u001b[0m\u001b[0mclusters\u001b[0m\u001b[0;34m[\u001b[0m\u001b[0mc\u001b[0m\u001b[0;34m]\u001b[0m\u001b[0;34m)\u001b[0m\u001b[0;34m)\u001b[0m\u001b[0;34m\u001b[0m\u001b[0;34m\u001b[0m\u001b[0m\n\u001b[0m\u001b[1;32m      6\u001b[0m \u001b[0mplt\u001b[0m\u001b[0;34m.\u001b[0m\u001b[0mplot\u001b[0m\u001b[0;34m(\u001b[0m\u001b[0mclusters\u001b[0m\u001b[0;34m,\u001b[0m \u001b[0mmodularity\u001b[0m\u001b[0;34m)\u001b[0m\u001b[0;34m\u001b[0m\u001b[0;34m\u001b[0m\u001b[0m\n\u001b[1;32m      7\u001b[0m \u001b[0mplt\u001b[0m\u001b[0;34m.\u001b[0m\u001b[0mxlabel\u001b[0m\u001b[0;34m(\u001b[0m\u001b[0;34m'Number of clusters'\u001b[0m\u001b[0;34m)\u001b[0m\u001b[0;34m\u001b[0m\u001b[0;34m\u001b[0m\u001b[0m\n",
      "\u001b[0;32m~/anaconda3/lib/python3.7/site-packages/igraph/clustering.py\u001b[0m in \u001b[0;36mas_clustering\u001b[0;34m(self, n)\u001b[0m\n\u001b[1;32m    976\u001b[0m         \u001b[0mnum_elts\u001b[0m \u001b[0;34m=\u001b[0m \u001b[0mself\u001b[0m\u001b[0;34m.\u001b[0m\u001b[0m_graph\u001b[0m\u001b[0;34m.\u001b[0m\u001b[0mvcount\u001b[0m\u001b[0;34m(\u001b[0m\u001b[0;34m)\u001b[0m\u001b[0;34m\u001b[0m\u001b[0;34m\u001b[0m\u001b[0m\n\u001b[1;32m    977\u001b[0m         \u001b[0midgen\u001b[0m \u001b[0;34m=\u001b[0m \u001b[0mUniqueIdGenerator\u001b[0m\u001b[0;34m(\u001b[0m\u001b[0;34m)\u001b[0m\u001b[0;34m\u001b[0m\u001b[0;34m\u001b[0m\u001b[0m\n\u001b[0;32m--> 978\u001b[0;31m         \u001b[0mmembership\u001b[0m \u001b[0;34m=\u001b[0m \u001b[0mcommunity_to_membership\u001b[0m\u001b[0;34m(\u001b[0m\u001b[0mself\u001b[0m\u001b[0;34m.\u001b[0m\u001b[0m_merges\u001b[0m\u001b[0;34m,\u001b[0m \u001b[0mnum_elts\u001b[0m\u001b[0;34m,\u001b[0m \u001b[0mnum_elts\u001b[0m \u001b[0;34m-\u001b[0m \u001b[0mn\u001b[0m\u001b[0;34m)\u001b[0m\u001b[0;34m\u001b[0m\u001b[0;34m\u001b[0m\u001b[0m\n\u001b[0m\u001b[1;32m    979\u001b[0m         \u001b[0mmembership\u001b[0m \u001b[0;34m=\u001b[0m \u001b[0;34m[\u001b[0m\u001b[0midgen\u001b[0m\u001b[0;34m[\u001b[0m\u001b[0mm\u001b[0m\u001b[0;34m]\u001b[0m \u001b[0;32mfor\u001b[0m \u001b[0mm\u001b[0m \u001b[0;32min\u001b[0m \u001b[0mmembership\u001b[0m\u001b[0;34m]\u001b[0m\u001b[0;34m\u001b[0m\u001b[0;34m\u001b[0m\u001b[0m\n\u001b[1;32m    980\u001b[0m         return VertexClustering(\n",
      "\u001b[0;31mInternalError\u001b[0m: Error at src/community/community_misc.c:115: Number of steps is greater than number of rows in merges matrix: found 9734 steps, 7273 rows. -- Invalid value"
     ]
    }
   ],
   "source": [
    "cnm = gh_ml.community_fastgreedy()\n",
    "clusters = np.arange(5, 10)\n",
    "modularity = np.zeros(len(clusters))\n",
    "for c in range(len(clusters)):\n",
    "    modularity[c] = gh_ml.modularity(cnm.as_clustering(n=clusters[c]))\n",
    "plt.plot(clusters, modularity)\n",
    "plt.xlabel('Number of clusters')\n",
    "plt.ylabel('Modularity')\n",
    "plt.show()\n",
    "#.as_clustering(n=2).membership"
   ]
  },
  {
   "cell_type": "code",
   "execution_count": 17,
   "id": "92cc2f8f",
   "metadata": {},
   "outputs": [
    {
     "data": {
      "text/plain": [
       "True"
      ]
     },
     "execution_count": 17,
     "metadata": {},
     "output_type": "execute_result"
    }
   ],
   "source": [
    "gh_ml.is_simple()"
   ]
  },
  {
   "cell_type": "code",
   "execution_count": null,
   "id": "549975f4",
   "metadata": {},
   "outputs": [],
   "source": [
    "## the Girvan-Newman was not included as it was too slow\n",
    "gn = gh_ml.community_edge_betweenness()"
   ]
  },
  {
   "cell_type": "code",
   "execution_count": 20,
   "id": "4f336b95",
   "metadata": {},
   "outputs": [
    {
     "name": "stdout",
     "output_type": "stream",
     "text": [
      "AMI between Louvain and ECG algorithms: 0.5941542935296517\n",
      "AMI between Infomap and ECG algorithms: 0.5758692329685827\n",
      "AMI between Infomap and Louvain algorithms: 0.49208137321052553\n",
      "AMI between Label Propagation and ECG algorithms: 0.4917535043937392\n",
      "AMI between Label Propagation and Louvain algorithms: 0.5798755606421877\n",
      "AMI between Label Propagation and Infomap algorithms: 0.29612211530266497\n"
     ]
    },
    {
     "ename": "TypeError",
     "evalue": "len() of unsized object",
     "output_type": "error",
     "traceback": [
      "\u001b[0;31m---------------------------------------------------------------------------\u001b[0m",
      "\u001b[0;31mTypeError\u001b[0m                                 Traceback (most recent call last)",
      "\u001b[0;32m<ipython-input-20-e25205ae0221>\u001b[0m in \u001b[0;36m<module>\u001b[0;34m\u001b[0m\n\u001b[1;32m      3\u001b[0m \u001b[0;32mfor\u001b[0m \u001b[0mi\u001b[0m \u001b[0;32min\u001b[0m \u001b[0mrange\u001b[0m\u001b[0;34m(\u001b[0m\u001b[0mlen\u001b[0m\u001b[0;34m(\u001b[0m\u001b[0mclustering_algorithms\u001b[0m\u001b[0;34m)\u001b[0m\u001b[0;34m)\u001b[0m\u001b[0;34m:\u001b[0m\u001b[0;34m\u001b[0m\u001b[0;34m\u001b[0m\u001b[0m\n\u001b[1;32m      4\u001b[0m     \u001b[0;32mfor\u001b[0m \u001b[0mj\u001b[0m \u001b[0;32min\u001b[0m \u001b[0mrange\u001b[0m\u001b[0;34m(\u001b[0m\u001b[0mi\u001b[0m\u001b[0;34m)\u001b[0m\u001b[0;34m:\u001b[0m\u001b[0;34m\u001b[0m\u001b[0;34m\u001b[0m\u001b[0m\n\u001b[0;32m----> 5\u001b[0;31m         \u001b[0mprint\u001b[0m\u001b[0;34m(\u001b[0m\u001b[0;34m'AMI between {0} and {1} algorithms: {2}'\u001b[0m\u001b[0;34m.\u001b[0m\u001b[0mformat\u001b[0m\u001b[0;34m(\u001b[0m\u001b[0mnames\u001b[0m\u001b[0;34m[\u001b[0m\u001b[0mi\u001b[0m\u001b[0;34m]\u001b[0m\u001b[0;34m,\u001b[0m \u001b[0mnames\u001b[0m\u001b[0;34m[\u001b[0m\u001b[0mj\u001b[0m\u001b[0;34m]\u001b[0m\u001b[0;34m,\u001b[0m \u001b[0mAMI\u001b[0m\u001b[0;34m(\u001b[0m\u001b[0mclustering_algorithms\u001b[0m\u001b[0;34m[\u001b[0m\u001b[0mi\u001b[0m\u001b[0;34m]\u001b[0m\u001b[0;34m,\u001b[0m\u001b[0mclustering_algorithms\u001b[0m\u001b[0;34m[\u001b[0m\u001b[0mj\u001b[0m\u001b[0;34m]\u001b[0m\u001b[0;34m)\u001b[0m\u001b[0;34m)\u001b[0m\u001b[0;34m)\u001b[0m\u001b[0;34m\u001b[0m\u001b[0;34m\u001b[0m\u001b[0m\n\u001b[0m",
      "\u001b[0;32m~/anaconda3/lib/python3.7/site-packages/sklearn/utils/validation.py\u001b[0m in \u001b[0;36minner_f\u001b[0;34m(*args, **kwargs)\u001b[0m\n\u001b[1;32m     61\u001b[0m             \u001b[0mextra_args\u001b[0m \u001b[0;34m=\u001b[0m \u001b[0mlen\u001b[0m\u001b[0;34m(\u001b[0m\u001b[0margs\u001b[0m\u001b[0;34m)\u001b[0m \u001b[0;34m-\u001b[0m \u001b[0mlen\u001b[0m\u001b[0;34m(\u001b[0m\u001b[0mall_args\u001b[0m\u001b[0;34m)\u001b[0m\u001b[0;34m\u001b[0m\u001b[0;34m\u001b[0m\u001b[0m\n\u001b[1;32m     62\u001b[0m             \u001b[0;32mif\u001b[0m \u001b[0mextra_args\u001b[0m \u001b[0;34m<=\u001b[0m \u001b[0;36m0\u001b[0m\u001b[0;34m:\u001b[0m\u001b[0;34m\u001b[0m\u001b[0;34m\u001b[0m\u001b[0m\n\u001b[0;32m---> 63\u001b[0;31m                 \u001b[0;32mreturn\u001b[0m \u001b[0mf\u001b[0m\u001b[0;34m(\u001b[0m\u001b[0;34m*\u001b[0m\u001b[0margs\u001b[0m\u001b[0;34m,\u001b[0m \u001b[0;34m**\u001b[0m\u001b[0mkwargs\u001b[0m\u001b[0;34m)\u001b[0m\u001b[0;34m\u001b[0m\u001b[0;34m\u001b[0m\u001b[0m\n\u001b[0m\u001b[1;32m     64\u001b[0m \u001b[0;34m\u001b[0m\u001b[0m\n\u001b[1;32m     65\u001b[0m             \u001b[0;31m# extra_args > 0\u001b[0m\u001b[0;34m\u001b[0m\u001b[0;34m\u001b[0m\u001b[0;34m\u001b[0m\u001b[0m\n",
      "\u001b[0;32m~/anaconda3/lib/python3.7/site-packages/sklearn/metrics/cluster/_supervised.py\u001b[0m in \u001b[0;36madjusted_mutual_info_score\u001b[0;34m(labels_true, labels_pred, average_method)\u001b[0m\n\u001b[1;32m    888\u001b[0m        \u001b[0;34m<\u001b[0m\u001b[0mhttps\u001b[0m\u001b[0;34m:\u001b[0m\u001b[0;34m//\u001b[0m\u001b[0men\u001b[0m\u001b[0;34m.\u001b[0m\u001b[0mwikipedia\u001b[0m\u001b[0;34m.\u001b[0m\u001b[0morg\u001b[0m\u001b[0;34m/\u001b[0m\u001b[0mwiki\u001b[0m\u001b[0;34m/\u001b[0m\u001b[0mAdjusted_Mutual_Information\u001b[0m\u001b[0;34m>\u001b[0m\u001b[0;31m`\u001b[0m\u001b[0m_\u001b[0m\u001b[0;34m\u001b[0m\u001b[0;34m\u001b[0m\u001b[0m\n\u001b[1;32m    889\u001b[0m     \"\"\"\n\u001b[0;32m--> 890\u001b[0;31m     \u001b[0mlabels_true\u001b[0m\u001b[0;34m,\u001b[0m \u001b[0mlabels_pred\u001b[0m \u001b[0;34m=\u001b[0m \u001b[0mcheck_clusterings\u001b[0m\u001b[0;34m(\u001b[0m\u001b[0mlabels_true\u001b[0m\u001b[0;34m,\u001b[0m \u001b[0mlabels_pred\u001b[0m\u001b[0;34m)\u001b[0m\u001b[0;34m\u001b[0m\u001b[0;34m\u001b[0m\u001b[0m\n\u001b[0m\u001b[1;32m    891\u001b[0m     \u001b[0mn_samples\u001b[0m \u001b[0;34m=\u001b[0m \u001b[0mlabels_true\u001b[0m\u001b[0;34m.\u001b[0m\u001b[0mshape\u001b[0m\u001b[0;34m[\u001b[0m\u001b[0;36m0\u001b[0m\u001b[0;34m]\u001b[0m\u001b[0;34m\u001b[0m\u001b[0;34m\u001b[0m\u001b[0m\n\u001b[1;32m    892\u001b[0m     \u001b[0mclasses\u001b[0m \u001b[0;34m=\u001b[0m \u001b[0mnp\u001b[0m\u001b[0;34m.\u001b[0m\u001b[0munique\u001b[0m\u001b[0;34m(\u001b[0m\u001b[0mlabels_true\u001b[0m\u001b[0;34m)\u001b[0m\u001b[0;34m\u001b[0m\u001b[0;34m\u001b[0m\u001b[0m\n",
      "\u001b[0;32m~/anaconda3/lib/python3.7/site-packages/sklearn/metrics/cluster/_supervised.py\u001b[0m in \u001b[0;36mcheck_clusterings\u001b[0;34m(labels_true, labels_pred)\u001b[0m\n\u001b[1;32m     49\u001b[0m     )\n\u001b[1;32m     50\u001b[0m \u001b[0;34m\u001b[0m\u001b[0m\n\u001b[0;32m---> 51\u001b[0;31m     \u001b[0mtype_label\u001b[0m \u001b[0;34m=\u001b[0m \u001b[0mtype_of_target\u001b[0m\u001b[0;34m(\u001b[0m\u001b[0mlabels_true\u001b[0m\u001b[0;34m)\u001b[0m\u001b[0;34m\u001b[0m\u001b[0;34m\u001b[0m\u001b[0m\n\u001b[0m\u001b[1;32m     52\u001b[0m     \u001b[0mtype_pred\u001b[0m \u001b[0;34m=\u001b[0m \u001b[0mtype_of_target\u001b[0m\u001b[0;34m(\u001b[0m\u001b[0mlabels_pred\u001b[0m\u001b[0;34m)\u001b[0m\u001b[0;34m\u001b[0m\u001b[0;34m\u001b[0m\u001b[0m\n\u001b[1;32m     53\u001b[0m \u001b[0;34m\u001b[0m\u001b[0m\n",
      "\u001b[0;32m~/anaconda3/lib/python3.7/site-packages/sklearn/utils/multiclass.py\u001b[0m in \u001b[0;36mtype_of_target\u001b[0;34m(y)\u001b[0m\n\u001b[1;32m    286\u001b[0m \u001b[0;34m\u001b[0m\u001b[0m\n\u001b[1;32m    287\u001b[0m     \u001b[0;31m# Invalid inputs\u001b[0m\u001b[0;34m\u001b[0m\u001b[0;34m\u001b[0m\u001b[0;34m\u001b[0m\u001b[0m\n\u001b[0;32m--> 288\u001b[0;31m     if y.ndim > 2 or (y.dtype == object and len(y) and\n\u001b[0m\u001b[1;32m    289\u001b[0m                       not isinstance(y.flat[0], str)):\n\u001b[1;32m    290\u001b[0m         \u001b[0;32mreturn\u001b[0m \u001b[0;34m'unknown'\u001b[0m  \u001b[0;31m# [[[1, 2]]] or [obj_1] and not [\"label_1\"]\u001b[0m\u001b[0;34m\u001b[0m\u001b[0;34m\u001b[0m\u001b[0m\n",
      "\u001b[0;31mTypeError\u001b[0m: len() of unsized object"
     ]
    }
   ],
   "source": [
    "clustering_algorithms = [ecg, louvain, infomap, lp, cnm]\n",
    "names = ['ECG', 'Louvain', 'Infomap', 'Label Propagation', 'CNM']\n",
    "for i in range(len(clustering_algorithms)):\n",
    "    for j in range(i):\n",
    "        print('AMI between {0} and {1} algorithms: {2}'.format(names[i], names[j], AMI(clustering_algorithms[i],clustering_algorithms[j])))"
   ]
  },
  {
   "cell_type": "markdown",
   "id": "51e1a60b",
   "metadata": {},
   "source": [
    "### Problem 5\n",
    "\n",
    "Take the ABCD graph we used to test quality measures. Check node roles. Compute how many nodes we have in each family (recall there are 4 families of non-hubs and 3 families of hubs). Plot the $(z(v), p(v))$ scores for all nodes as we did in Figure 5.3 for the karate club graph. "
   ]
  },
  {
   "cell_type": "code",
   "execution_count": null,
   "id": "926d504d",
   "metadata": {},
   "outputs": [],
   "source": []
  },
  {
   "cell_type": "markdown",
   "id": "6b098a48",
   "metadata": {},
   "source": [
    "### Problem 6\n",
    "\n",
    "Compare time complexities of various clustering algorithms (ECG, Louvain, Infomap, Label Propagation, Girvan-Newman, CNM) using an ABCD synthetic graph with differet number of nodes, say, $n=100, 200, 400, 800, 1600, ...$. Which algorithm is the slowest, which one is the fastest?"
   ]
  },
  {
   "cell_type": "code",
   "execution_count": null,
   "id": "090aafed",
   "metadata": {},
   "outputs": [],
   "source": []
  }
 ],
 "metadata": {
  "kernelspec": {
   "display_name": "Python 3",
   "language": "python",
   "name": "python3"
  },
  "language_info": {
   "codemirror_mode": {
    "name": "ipython",
    "version": 3
   },
   "file_extension": ".py",
   "mimetype": "text/x-python",
   "name": "python",
   "nbconvert_exporter": "python",
   "pygments_lexer": "ipython3",
   "version": "3.7.11"
  }
 },
 "nbformat": 4,
 "nbformat_minor": 5
}
