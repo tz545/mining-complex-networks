{
 "cells": [
  {
   "cell_type": "code",
   "execution_count": 21,
   "id": "7e256ad8",
   "metadata": {},
   "outputs": [],
   "source": [
    "import igraph as ig\n",
    "import numpy as np\n",
    "import pandas as pd\n",
    "from sklearn.metrics import adjusted_mutual_info_score as AMI\n",
    "import matplotlib.pyplot as plt"
   ]
  },
  {
   "cell_type": "code",
   "execution_count": 2,
   "id": "4b61a1af",
   "metadata": {},
   "outputs": [],
   "source": [
    "datadir='../Datasets/'\n",
    "abcd_path = 'ABCD/utils/'"
   ]
  },
  {
   "cell_type": "markdown",
   "id": "cda4d172",
   "metadata": {},
   "source": [
    "### Problem 1\n",
    "\n",
    "Run various clustering algorithms (ECG, Louvain, Infomap, Label Propagation, Girvan-Newman, and CNM) for the karate club graph. For each algorithm tested, compare the partition found by the algorithm with the ground-truth (two communities) by computing the AMI score"
   ]
  },
  {
   "cell_type": "code",
   "execution_count": 3,
   "id": "bf87f30d",
   "metadata": {},
   "outputs": [],
   "source": [
    "z = ig.Graph.Famous('zachary')\n",
    "z.vs['comm'] = [0,0,0,0,0,0,0,0,1,1,0,0,0,0,1,1,0,0,1,0,1,0,1,1,1,1,1,1,1,1,1,1,1,1]"
   ]
  },
  {
   "cell_type": "code",
   "execution_count": 3,
   "id": "0c37dded",
   "metadata": {},
   "outputs": [],
   "source": [
    "# copied GitHub code to add ECG to the choice of community algorithms\n",
    "def community_ecg(self, weights=None, ens_size=16, min_weight=0.05):\n",
    "    W = [0]*self.ecount()\n",
    "    ## Ensemble of level-1 Louvain \n",
    "    for i in range(ens_size):\n",
    "        p = np.random.permutation(self.vcount()).tolist()\n",
    "        g = self.permute_vertices(p)\n",
    "        l = g.community_multilevel(weights=weights, return_levels=True)[0].membership\n",
    "        b = [l[p[x.tuple[0]]]==l[p[x.tuple[1]]] for x in self.es]\n",
    "        W = [W[i]+b[i] for i in range(len(W))]\n",
    "    W = [min_weight + (1-min_weight)*W[i]/ens_size for i in range(len(W))]\n",
    "    ## Force min_weight outside 2-core\n",
    "    core = self.shell_index()\n",
    "    ecore = [min(core[x.tuple[0]],core[x.tuple[1]]) for x in self.es]\n",
    "    w = [W[i] if ecore[i]>1 else min_weight for i in range(len(ecore))]\n",
    "    part = self.community_multilevel(weights=w)\n",
    "    part.W = w\n",
    "    part.CSI = 1-2*np.sum([min(1-i,i) for i in w])/len(w)\n",
    "    return part\n",
    "ig.Graph.community_ecg = community_ecg"
   ]
  },
  {
   "cell_type": "markdown",
   "id": "543cd97f",
   "metadata": {},
   "source": [
    "ECG:"
   ]
  },
  {
   "cell_type": "code",
   "execution_count": 5,
   "id": "20876201",
   "metadata": {},
   "outputs": [
    {
     "name": "stdout",
     "output_type": "stream",
     "text": [
      "AMI: 0.5805154226518418\n"
     ]
    }
   ],
   "source": [
    "ecg = z.community_ecg().membership\n",
    "print('AMI:',AMI(z.vs['comm'],ecg))"
   ]
  },
  {
   "cell_type": "markdown",
   "id": "b639c988",
   "metadata": {},
   "source": [
    "Louvain:"
   ]
  },
  {
   "cell_type": "code",
   "execution_count": 6,
   "id": "3817f655",
   "metadata": {},
   "outputs": [
    {
     "name": "stdout",
     "output_type": "stream",
     "text": [
      "AMI: 0.5653497612707893\n"
     ]
    }
   ],
   "source": [
    "louvain = z.community_multilevel().membership\n",
    "print('AMI:',AMI(z.vs['comm'],louvain))"
   ]
  },
  {
   "cell_type": "markdown",
   "id": "131442a3",
   "metadata": {},
   "source": [
    "Infomap:"
   ]
  },
  {
   "cell_type": "code",
   "execution_count": 7,
   "id": "86969a6e",
   "metadata": {},
   "outputs": [
    {
     "name": "stdout",
     "output_type": "stream",
     "text": [
      "AMI: 0.687422347904921\n"
     ]
    }
   ],
   "source": [
    "infomap = z.community_infomap().membership\n",
    "print('AMI:',AMI(z.vs['comm'],infomap))"
   ]
  },
  {
   "cell_type": "markdown",
   "id": "57a9de4a",
   "metadata": {},
   "source": [
    "Label Propagation:"
   ]
  },
  {
   "cell_type": "code",
   "execution_count": 8,
   "id": "ae9775ea",
   "metadata": {},
   "outputs": [
    {
     "name": "stdout",
     "output_type": "stream",
     "text": [
      "AMI: 0.5443932646993975\n"
     ]
    }
   ],
   "source": [
    "lp = z.community_label_propagation().membership\n",
    "print('AMI:',AMI(z.vs['comm'],lp))"
   ]
  },
  {
   "cell_type": "markdown",
   "id": "5ac94230",
   "metadata": {},
   "source": [
    "Girvan-Newman"
   ]
  },
  {
   "cell_type": "code",
   "execution_count": 9,
   "id": "fa2a50f4",
   "metadata": {},
   "outputs": [
    {
     "name": "stdout",
     "output_type": "stream",
     "text": [
      "AMI: 0.8327564079186137\n"
     ]
    }
   ],
   "source": [
    "gn = z.community_edge_betweenness()\n",
    "print('AMI:',AMI(z.vs['comm'],gn.as_clustering(n=2).membership))"
   ]
  },
  {
   "cell_type": "markdown",
   "id": "925e7fd3",
   "metadata": {},
   "source": [
    "CNM:"
   ]
  },
  {
   "cell_type": "code",
   "execution_count": 10,
   "id": "8f18cc36",
   "metadata": {},
   "outputs": [
    {
     "name": "stdout",
     "output_type": "stream",
     "text": [
      "AMI: 0.8334659946350965\n"
     ]
    }
   ],
   "source": [
    "cnm = z.community_fastgreedy()\n",
    "print('AMI:',AMI(z.vs['comm'],cnm.as_clustering(n=2).membership))"
   ]
  },
  {
   "cell_type": "markdown",
   "id": "654b8219",
   "metadata": {},
   "source": [
    "### Problem 2\n",
    "\n",
    "Run various clustering algorithms (ECG, Louvain, Infomap, Label Propagation, Girvan-Newman and CNM) on the GitHub ml graph. Which algorithms produce similar results? In order to answer this question, for each pair of algorithms, find the AMI score between the two results. "
   ]
  },
  {
   "cell_type": "code",
   "execution_count": 3,
   "id": "904d81e8",
   "metadata": {},
   "outputs": [],
   "source": [
    "## read edges and make graph\n",
    "github_df = pd.read_csv(datadir+'GitHubDevelopers/musae_git_edges.csv')\n",
    "gh = ig.Graph.DataFrame(github_df, directed=False)\n",
    "\n",
    "## read node features\n",
    "X = pd.read_csv(datadir+'GitHubDevelopers/musae_git_target.csv')\n",
    "\n",
    "## map node names in edgelist to indices in the graph\n",
    "idx = [int(i) for i in gh.vs['name']]\n",
    "sorterIndex = dict(zip(idx,range(len(idx))))\n",
    "X['Rank'] = X['id'].map(sorterIndex) \n",
    "X.sort_values(['Rank'], ascending=[True],inplace=True)\n",
    "X.dropna(inplace=True)\n",
    "\n",
    "lbl = ['web','ml']     ## node labels\n",
    "gh.vs['lbl'] = [lbl[i] for i in list(X['ml_target'])]\n",
    "\n",
    "## build the mlsubgraph\n",
    "gh_ml = gh.subgraph([v for v in gh.vs() if v['lbl']=='ml'])"
   ]
  },
  {
   "cell_type": "code",
   "execution_count": 11,
   "id": "38f7528a",
   "metadata": {},
   "outputs": [],
   "source": [
    "## run various clustering algorithms\n",
    "ecg = gh_ml.community_ecg().membership\n",
    "louvain = gh_ml.community_multilevel().membership\n",
    "infomap = gh_ml.community_infomap().membership\n",
    "lp = gh_ml.community_label_propagation().membership\n",
    "cnm = gh_ml.community_fastgreedy().as_clustering().membership"
   ]
  },
  {
   "cell_type": "code",
   "execution_count": null,
   "id": "549975f4",
   "metadata": {},
   "outputs": [],
   "source": [
    "## the Girvan-Newman was not included as it was too slow\n",
    "gn = gh_ml.community_edge_betweenness().membership"
   ]
  },
  {
   "cell_type": "code",
   "execution_count": 13,
   "id": "4f336b95",
   "metadata": {},
   "outputs": [
    {
     "name": "stdout",
     "output_type": "stream",
     "text": [
      "AMI between Louvain and ECG algorithms: 0.6142065735152655\n",
      "AMI between Infomap and ECG algorithms: 0.5721087219995244\n",
      "AMI between Infomap and Louvain algorithms: 0.49278914886975994\n",
      "AMI between Label Propagation and ECG algorithms: 0.4773705026131031\n",
      "AMI between Label Propagation and Louvain algorithms: 0.5716413602349016\n",
      "AMI between Label Propagation and Infomap algorithms: 0.27687935405599395\n",
      "AMI between CNM and ECG algorithms: 0.554631691686149\n",
      "AMI between CNM and Louvain algorithms: 0.5927389075550022\n",
      "AMI between CNM and Infomap algorithms: 0.4567442413372447\n",
      "AMI between CNM and Label Propagation algorithms: 0.614989191440958\n"
     ]
    }
   ],
   "source": [
    "clustering_algorithms = [ecg, louvain, infomap, lp, cnm]\n",
    "names = ['ECG', 'Louvain', 'Infomap', 'Label Propagation', 'CNM']\n",
    "for i in range(len(clustering_algorithms)):\n",
    "    for j in range(i):\n",
    "        print('AMI between {0} and {1} algorithms: {2}'.format(names[i], names[j], AMI(clustering_algorithms[i],clustering_algorithms[j])))"
   ]
  },
  {
   "cell_type": "markdown",
   "id": "51e1a60b",
   "metadata": {},
   "source": [
    "### Problem 5\n",
    "\n",
    "Take the ABCD graph we used to test quality measures. Check node roles. Compute how many nodes we have in each family (recall there are 4 families of non-hubs and 3 families of hubs). Plot the $(z(v), p(v))$ scores for all nodes as we did in Figure 5.3 for the karate club graph. "
   ]
  },
  {
   "cell_type": "code",
   "execution_count": 4,
   "id": "926d504d",
   "metadata": {},
   "outputs": [],
   "source": [
    "g = ig.Graph.Read_Ncol(datadir+'ABCD/abcd_100.dat',directed=False)\n",
    "c = np.loadtxt(datadir+'ABCD/abcd_100_comms.dat',dtype='uint16',usecols=(1))\n",
    "g.vs['comm'] = [c[int(x['name'])-1]-1 for x in g.vs]"
   ]
  },
  {
   "cell_type": "code",
   "execution_count": 19,
   "id": "b33ce91b",
   "metadata": {},
   "outputs": [
    {
     "data": {
      "text/html": [
       "<div>\n",
       "<style scoped>\n",
       "    .dataframe tbody tr th:only-of-type {\n",
       "        vertical-align: middle;\n",
       "    }\n",
       "\n",
       "    .dataframe tbody tr th {\n",
       "        vertical-align: top;\n",
       "    }\n",
       "\n",
       "    .dataframe thead th {\n",
       "        text-align: right;\n",
       "    }\n",
       "</style>\n",
       "<table border=\"1\" class=\"dataframe\">\n",
       "  <thead>\n",
       "    <tr style=\"text-align: right;\">\n",
       "      <th></th>\n",
       "      <th>z</th>\n",
       "      <th>p</th>\n",
       "    </tr>\n",
       "  </thead>\n",
       "  <tbody>\n",
       "    <tr>\n",
       "      <th>5</th>\n",
       "      <td>2.558409</td>\n",
       "      <td>0.244898</td>\n",
       "    </tr>\n",
       "    <tr>\n",
       "      <th>24</th>\n",
       "      <td>2.380025</td>\n",
       "      <td>0.260355</td>\n",
       "    </tr>\n",
       "    <tr>\n",
       "      <th>2</th>\n",
       "      <td>2.367309</td>\n",
       "      <td>0.277778</td>\n",
       "    </tr>\n",
       "    <tr>\n",
       "      <th>31</th>\n",
       "      <td>2.367309</td>\n",
       "      <td>0.165289</td>\n",
       "    </tr>\n",
       "    <tr>\n",
       "      <th>22</th>\n",
       "      <td>1.890355</td>\n",
       "      <td>0.355030</td>\n",
       "    </tr>\n",
       "  </tbody>\n",
       "</table>\n",
       "</div>"
      ],
      "text/plain": [
       "           z         p\n",
       "5   2.558409  0.244898\n",
       "24  2.380025  0.260355\n",
       "2   2.367309  0.277778\n",
       "31  2.367309  0.165289\n",
       "22  1.890355  0.355030"
      ]
     },
     "execution_count": 19,
     "metadata": {},
     "output_type": "execute_result"
    }
   ],
   "source": [
    "## compute internal degrees\n",
    "in_deg_0 = g.subgraph_edges([e for e in g.es if g.vs['comm'][e.tuple[0]]==0 and g.vs['comm'][e.tuple[1]]==0],\n",
    "                            delete_vertices=False).degree()\n",
    "in_deg_1 = g.subgraph_edges([e for e in g.es if g.vs['comm'][e.tuple[0]]==1 and g.vs['comm'][e.tuple[1]]==1],\n",
    "                            delete_vertices=False).degree()\n",
    "in_deg_2 = g.subgraph_edges([e for e in g.es if g.vs['comm'][e.tuple[0]]==2 and g.vs['comm'][e.tuple[1]]==2],\n",
    "                            delete_vertices=False).degree()\n",
    "\n",
    "## compute z (normalized within-module degree)\n",
    "g.vs['in_deg'] = [in_deg_0[i] + in_deg_1[i] + in_deg_2[i] for i in range(g.vcount())]\n",
    "mu = [np.mean([x for x in in_deg_0 if x>0]),np.mean([x for x in in_deg_1 if x>0]),np.mean([x for x in in_deg_2 if x>0])]\n",
    "sig = [np.std([x for x in in_deg_0 if x>0],ddof=1),np.std([x for x in in_deg_1 if x>0],ddof=1),np.std([x for x in in_deg_2 if x>0],ddof=1)]\n",
    "g.vs['z'] = [(v['in_deg']-mu[v['comm']])/sig[v['comm']] for v in g.vs]\n",
    "\n",
    "## computing p (participation coefficient)\n",
    "g.vs['deg'] = g.degree()\n",
    "g.vs['out_deg'] = [v['deg'] - v['in_deg'] for v in g.vs]\n",
    "g.vs['p'] = [1-(v['in_deg']/v['deg'])**2-(v['out_deg']/v['deg'])**2 for v in g.vs]\n",
    "D = pd.DataFrame(np.array([g.vs['z'],g.vs['p']]).transpose(),columns=['z','p']).sort_values(by='z',ascending=False)\n",
    "D.head()"
   ]
  },
  {
   "cell_type": "code",
   "execution_count": 39,
   "id": "105b0b87",
   "metadata": {},
   "outputs": [
    {
     "data": {
      "image/png": "[encoded data removed]",
      "text/plain": [
       "<Figure size 864x648 with 1 Axes>"
      ]
     },
     "metadata": {
      "needs_background": "light"
     },
     "output_type": "display_data"
    }
   ],
   "source": [
    "## Plotting z(v) vs p(v) scores for all nodes\n",
    "fig, ax = plt.subplots(figsize=(12,9))\n",
    "ax.scatter(g.vs['p'],g.vs['z'],marker='o',s=75, color='k')\n",
    "\n",
    "plt.plot([0, .5], [2.5, 2.5], color='k', linestyle='-', linewidth=2)\n",
    "plt.plot([.05, .05], [-.5, 2.5], color='k', linestyle='-', linewidth=2)\n",
    "plt.plot([0.3, 0.3], [2.5, 3.5], color='k', linestyle='-', linewidth=2)\n",
    "\n",
    "ax.annotate('provincial hubs',(.1,3), fontsize=18)\n",
    "ax.annotate('connector hubs',(.35,3), fontsize=18)\n",
    "ax.annotate('peripheral non-hubs',(.3,1.), fontsize=18)\n",
    "ax.annotate('ultra peripheral non-hubs',(0.005,1.0),xytext=(.06,-0.5), fontsize=18,\n",
    "             arrowprops = dict( arrowstyle=\"->\", connectionstyle=\"angle3,angleA=0,angleB=-90\"))\n",
    "\n",
    "plt.xlabel('participation coefficient (p)',fontsize=16)\n",
    "plt.ylabel('normalized within module degree (z)',fontsize=16);"
   ]
  },
  {
   "cell_type": "markdown",
   "id": "6b098a48",
   "metadata": {},
   "source": [
    "### Problem 6\n",
    "\n",
    "Compare time complexities of various clustering algorithms (ECG, Louvain, Infomap, Label Propagation, Girvan-Newman, CNM) using an ABCD synthetic graph with different number of nodes, say, $n=100, 200, 400, 800, 1600, ...$. Which algorithm is the slowest, which one is the fastest?"
   ]
  },
  {
   "cell_type": "code",
   "execution_count": 40,
   "id": "090aafed",
   "metadata": {},
   "outputs": [],
   "source": [
    "g100 = ig.Graph.Read_Ncol(datadir+'ABCD/abcd_100.dat',directed=False)\n",
    "g200 = ig.Graph.Read_Ncol(datadir+'ABCD/abcd_200.dat',directed=False)\n",
    "g400 = ig.Graph.Read_Ncol(datadir+'ABCD/abcd_400.dat',directed=False)\n",
    "g800 = ig.Graph.Read_Ncol(datadir+'ABCD/abcd_800.dat',directed=False)\n",
    "g1600 = ig.Graph.Read_Ncol(datadir+'ABCD/abcd_1600.dat',directed=False)"
   ]
  },
  {
   "cell_type": "markdown",
   "id": "8cbc322c",
   "metadata": {},
   "source": [
    "ECG:"
   ]
  },
  {
   "cell_type": "code",
   "execution_count": 42,
   "id": "c5ac533d",
   "metadata": {},
   "outputs": [
    {
     "name": "stdout",
     "output_type": "stream",
     "text": [
      "CPU times: user 28.8 ms, sys: 0 ns, total: 28.8 ms\n",
      "Wall time: 28 ms\n"
     ]
    }
   ],
   "source": [
    "%%time\n",
    "ecg = g100.community_ecg().membership"
   ]
  },
  {
   "cell_type": "code",
   "execution_count": 43,
   "id": "edc57916",
   "metadata": {},
   "outputs": [
    {
     "name": "stdout",
     "output_type": "stream",
     "text": [
      "CPU times: user 49.3 ms, sys: 0 ns, total: 49.3 ms\n",
      "Wall time: 47.1 ms\n"
     ]
    }
   ],
   "source": [
    "%%time\n",
    "ecg = g200.community_ecg().membership"
   ]
  },
  {
   "cell_type": "code",
   "execution_count": 44,
   "id": "305be0ae",
   "metadata": {},
   "outputs": [
    {
     "name": "stdout",
     "output_type": "stream",
     "text": [
      "CPU times: user 54.6 ms, sys: 0 ns, total: 54.6 ms\n",
      "Wall time: 53.9 ms\n"
     ]
    }
   ],
   "source": [
    "%%time\n",
    "ecg = g400.community_ecg().membership"
   ]
  },
  {
   "cell_type": "code",
   "execution_count": 45,
   "id": "c1093a6b",
   "metadata": {},
   "outputs": [
    {
     "name": "stdout",
     "output_type": "stream",
     "text": [
      "CPU times: user 240 ms, sys: 0 ns, total: 240 ms\n",
      "Wall time: 239 ms\n"
     ]
    }
   ],
   "source": [
    "%%time\n",
    "ecg = g800.community_ecg().membership"
   ]
  },
  {
   "cell_type": "code",
   "execution_count": 46,
   "id": "b05a20a8",
   "metadata": {},
   "outputs": [
    {
     "name": "stdout",
     "output_type": "stream",
     "text": [
      "CPU times: user 416 ms, sys: 0 ns, total: 416 ms\n",
      "Wall time: 414 ms\n"
     ]
    }
   ],
   "source": [
    "%%time\n",
    "ecg = g1600.community_ecg().membership"
   ]
  },
  {
   "cell_type": "markdown",
   "id": "6e1fd82e",
   "metadata": {},
   "source": [
    "Louvain:"
   ]
  },
  {
   "cell_type": "code",
   "execution_count": 47,
   "id": "09f692fc",
   "metadata": {},
   "outputs": [
    {
     "name": "stdout",
     "output_type": "stream",
     "text": [
      "CPU times: user 3.24 ms, sys: 0 ns, total: 3.24 ms\n",
      "Wall time: 3.17 ms\n"
     ]
    }
   ],
   "source": [
    "%%time\n",
    "louvain = g100.community_multilevel().membership"
   ]
  },
  {
   "cell_type": "code",
   "execution_count": 48,
   "id": "06b063f6",
   "metadata": {},
   "outputs": [
    {
     "name": "stdout",
     "output_type": "stream",
     "text": [
      "CPU times: user 1.97 ms, sys: 0 ns, total: 1.97 ms\n",
      "Wall time: 1.98 ms\n"
     ]
    }
   ],
   "source": [
    "%%time\n",
    "louvain = g200.community_multilevel().membership"
   ]
  },
  {
   "cell_type": "code",
   "execution_count": 49,
   "id": "25a59825",
   "metadata": {},
   "outputs": [
    {
     "name": "stdout",
     "output_type": "stream",
     "text": [
      "CPU times: user 8.45 ms, sys: 12 µs, total: 8.46 ms\n",
      "Wall time: 7.98 ms\n"
     ]
    }
   ],
   "source": [
    "%%time\n",
    "louvain = g400.community_multilevel().membership"
   ]
  },
  {
   "cell_type": "code",
   "execution_count": 50,
   "id": "ccdde337",
   "metadata": {},
   "outputs": [
    {
     "name": "stdout",
     "output_type": "stream",
     "text": [
      "CPU times: user 12.1 ms, sys: 0 ns, total: 12.1 ms\n",
      "Wall time: 11.9 ms\n"
     ]
    }
   ],
   "source": [
    "%%time\n",
    "louvain = g800.community_multilevel().membership"
   ]
  },
  {
   "cell_type": "code",
   "execution_count": 51,
   "id": "75988a70",
   "metadata": {},
   "outputs": [
    {
     "name": "stdout",
     "output_type": "stream",
     "text": [
      "CPU times: user 18.4 ms, sys: 3.64 ms, total: 22 ms\n",
      "Wall time: 21.6 ms\n"
     ]
    }
   ],
   "source": [
    "%%time\n",
    "louvain = g1600.community_multilevel().membership"
   ]
  },
  {
   "cell_type": "markdown",
   "id": "e746f9f9",
   "metadata": {},
   "source": [
    "Infomap:"
   ]
  },
  {
   "cell_type": "code",
   "execution_count": 52,
   "id": "f6d817d5",
   "metadata": {},
   "outputs": [
    {
     "name": "stdout",
     "output_type": "stream",
     "text": [
      "CPU times: user 31.2 ms, sys: 187 µs, total: 31.4 ms\n",
      "Wall time: 45.2 ms\n"
     ]
    }
   ],
   "source": [
    "%%time\n",
    "infomap = g100.community_infomap().membership"
   ]
  },
  {
   "cell_type": "code",
   "execution_count": 53,
   "id": "5ad22631",
   "metadata": {},
   "outputs": [
    {
     "name": "stdout",
     "output_type": "stream",
     "text": [
      "CPU times: user 67.8 ms, sys: 0 ns, total: 67.8 ms\n",
      "Wall time: 67.4 ms\n"
     ]
    }
   ],
   "source": [
    "%%time\n",
    "infomap = g200.community_infomap().membership"
   ]
  },
  {
   "cell_type": "code",
   "execution_count": 54,
   "id": "caee5b84",
   "metadata": {},
   "outputs": [
    {
     "name": "stdout",
     "output_type": "stream",
     "text": [
      "CPU times: user 158 ms, sys: 0 ns, total: 158 ms\n",
      "Wall time: 157 ms\n"
     ]
    }
   ],
   "source": [
    "%%time\n",
    "infomap = g400.community_infomap().membership"
   ]
  },
  {
   "cell_type": "code",
   "execution_count": 55,
   "id": "e0d87bad",
   "metadata": {},
   "outputs": [
    {
     "name": "stdout",
     "output_type": "stream",
     "text": [
      "CPU times: user 149 ms, sys: 0 ns, total: 149 ms\n",
      "Wall time: 148 ms\n"
     ]
    }
   ],
   "source": [
    "%%time\n",
    "infomap = g800.community_infomap().membership"
   ]
  },
  {
   "cell_type": "code",
   "execution_count": 56,
   "id": "a195abb1",
   "metadata": {},
   "outputs": [
    {
     "name": "stdout",
     "output_type": "stream",
     "text": [
      "CPU times: user 351 ms, sys: 0 ns, total: 351 ms\n",
      "Wall time: 349 ms\n"
     ]
    }
   ],
   "source": [
    "%%time\n",
    "infomap = g1600.community_infomap().membership"
   ]
  },
  {
   "cell_type": "markdown",
   "id": "712f4c81",
   "metadata": {},
   "source": [
    "Label Propagation:"
   ]
  },
  {
   "cell_type": "code",
   "execution_count": 57,
   "id": "f4480664",
   "metadata": {},
   "outputs": [
    {
     "name": "stdout",
     "output_type": "stream",
     "text": [
      "CPU times: user 407 µs, sys: 34 µs, total: 441 µs\n",
      "Wall time: 449 µs\n"
     ]
    }
   ],
   "source": [
    "%%time\n",
    "lp = g100.community_label_propagation().membership"
   ]
  },
  {
   "cell_type": "code",
   "execution_count": 58,
   "id": "1e75ae79",
   "metadata": {},
   "outputs": [
    {
     "name": "stdout",
     "output_type": "stream",
     "text": [
      "CPU times: user 3.24 ms, sys: 0 ns, total: 3.24 ms\n",
      "Wall time: 3.11 ms\n"
     ]
    }
   ],
   "source": [
    "%%time\n",
    "lp = g200.community_label_propagation().membership"
   ]
  },
  {
   "cell_type": "code",
   "execution_count": 60,
   "id": "dc195803",
   "metadata": {},
   "outputs": [
    {
     "name": "stdout",
     "output_type": "stream",
     "text": [
      "CPU times: user 3.64 ms, sys: 0 ns, total: 3.64 ms\n",
      "Wall time: 3.14 ms\n"
     ]
    }
   ],
   "source": [
    "%%time\n",
    "lp = g400.community_label_propagation().membership"
   ]
  },
  {
   "cell_type": "code",
   "execution_count": 61,
   "id": "ba1b32c7",
   "metadata": {},
   "outputs": [
    {
     "name": "stdout",
     "output_type": "stream",
     "text": [
      "CPU times: user 4.72 ms, sys: 49 µs, total: 4.77 ms\n",
      "Wall time: 4.6 ms\n"
     ]
    }
   ],
   "source": [
    "%%time\n",
    "lp = g800.community_label_propagation().membership"
   ]
  },
  {
   "cell_type": "code",
   "execution_count": 62,
   "id": "96210d0a",
   "metadata": {},
   "outputs": [
    {
     "name": "stdout",
     "output_type": "stream",
     "text": [
      "CPU times: user 7.98 ms, sys: 0 ns, total: 7.98 ms\n",
      "Wall time: 7.27 ms\n"
     ]
    }
   ],
   "source": [
    "%%time\n",
    "lp = g1600.community_label_propagation().membership"
   ]
  },
  {
   "cell_type": "markdown",
   "id": "f389bd22",
   "metadata": {},
   "source": [
    "CNM:"
   ]
  },
  {
   "cell_type": "code",
   "execution_count": 63,
   "id": "b3a8428e",
   "metadata": {},
   "outputs": [
    {
     "name": "stdout",
     "output_type": "stream",
     "text": [
      "CPU times: user 1.37 ms, sys: 117 µs, total: 1.48 ms\n",
      "Wall time: 1.13 ms\n"
     ]
    }
   ],
   "source": [
    "%%time\n",
    "cnm = g100.community_fastgreedy().as_clustering().membership"
   ]
  },
  {
   "cell_type": "code",
   "execution_count": 64,
   "id": "fbd95888",
   "metadata": {},
   "outputs": [
    {
     "name": "stdout",
     "output_type": "stream",
     "text": [
      "CPU times: user 2.32 ms, sys: 0 ns, total: 2.32 ms\n",
      "Wall time: 2.33 ms\n"
     ]
    }
   ],
   "source": [
    "%%time\n",
    "cnm = g200.community_fastgreedy().as_clustering().membership"
   ]
  },
  {
   "cell_type": "code",
   "execution_count": 65,
   "id": "94722315",
   "metadata": {},
   "outputs": [
    {
     "name": "stdout",
     "output_type": "stream",
     "text": [
      "CPU times: user 11 ms, sys: 229 µs, total: 11.2 ms\n",
      "Wall time: 10.7 ms\n"
     ]
    }
   ],
   "source": [
    "%%time\n",
    "cnm = g400.community_fastgreedy().as_clustering().membership"
   ]
  },
  {
   "cell_type": "code",
   "execution_count": 66,
   "id": "6b36fb65",
   "metadata": {},
   "outputs": [
    {
     "name": "stdout",
     "output_type": "stream",
     "text": [
      "CPU times: user 42.2 ms, sys: 0 ns, total: 42.2 ms\n",
      "Wall time: 41.9 ms\n"
     ]
    }
   ],
   "source": [
    "%%time\n",
    "cnm = g800.community_fastgreedy().as_clustering().membership"
   ]
  },
  {
   "cell_type": "code",
   "execution_count": 67,
   "id": "60899c85",
   "metadata": {},
   "outputs": [
    {
     "name": "stdout",
     "output_type": "stream",
     "text": [
      "CPU times: user 106 ms, sys: 0 ns, total: 106 ms\n",
      "Wall time: 105 ms\n"
     ]
    }
   ],
   "source": [
    "%%time\n",
    "cnm = g1600.community_fastgreedy().as_clustering().membership"
   ]
  },
  {
   "cell_type": "markdown",
   "id": "c38dcf1b",
   "metadata": {},
   "source": [
    "Girvan-Newmann"
   ]
  },
  {
   "cell_type": "code",
   "execution_count": 69,
   "id": "bdc43154",
   "metadata": {},
   "outputs": [
    {
     "name": "stdout",
     "output_type": "stream",
     "text": [
      "CPU times: user 162 ms, sys: 0 ns, total: 162 ms\n",
      "Wall time: 162 ms\n"
     ]
    }
   ],
   "source": [
    "%%time\n",
    "gn = g100.community_edge_betweenness()"
   ]
  },
  {
   "cell_type": "code",
   "execution_count": 70,
   "id": "7f3352e7",
   "metadata": {},
   "outputs": [
    {
     "name": "stdout",
     "output_type": "stream",
     "text": [
      "CPU times: user 1.12 s, sys: 1.75 ms, total: 1.12 s\n",
      "Wall time: 1.11 s\n"
     ]
    }
   ],
   "source": [
    "%%time\n",
    "gn = g200.community_edge_betweenness()"
   ]
  },
  {
   "cell_type": "code",
   "execution_count": 71,
   "id": "a4ba06b7",
   "metadata": {},
   "outputs": [
    {
     "name": "stdout",
     "output_type": "stream",
     "text": [
      "CPU times: user 8.18 s, sys: 0 ns, total: 8.18 s\n",
      "Wall time: 8.14 s\n"
     ]
    }
   ],
   "source": [
    "%%time\n",
    "gn = g400.community_edge_betweenness()"
   ]
  },
  {
   "cell_type": "code",
   "execution_count": null,
   "id": "c056b455",
   "metadata": {},
   "outputs": [],
   "source": [
    "%%time\n",
    "gn = g800.community_edge_betweenness()"
   ]
  },
  {
   "cell_type": "code",
   "execution_count": null,
   "id": "8aa4f7d4",
   "metadata": {},
   "outputs": [],
   "source": [
    "%%time\n",
    "gn = g1600.community_edge_betweenness()"
   ]
  },
  {
   "cell_type": "code",
   "execution_count": null,
   "id": "be1288d3",
   "metadata": {},
   "outputs": [],
   "source": []
  }
 ],
 "metadata": {
  "kernelspec": {
   "display_name": "Python 3",
   "language": "python",
   "name": "python3"
  },
  "language_info": {
   "codemirror_mode": {
    "name": "ipython",
    "version": 3
   },
   "file_extension": ".py",
   "mimetype": "text/x-python",
   "name": "python",
   "nbconvert_exporter": "python",
   "pygments_lexer": "ipython3",
   "version": "3.7.11"
  }
 },
 "nbformat": 4,
 "nbformat_minor": 5
}
