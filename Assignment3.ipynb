{
 "cells": [
  {
   "cell_type": "code",
   "execution_count": 87,
   "id": "0b3d7a5f",
   "metadata": {},
   "outputs": [],
   "source": [
    "import pandas as pd\n",
    "import igraph as ig\n",
    "import numpy as np\n",
    "import matplotlib.pyplot as plt\n",
    "from statistics import mode\n",
    "from copy import deepcopy"
   ]
  },
  {
   "cell_type": "code",
   "execution_count": 2,
   "id": "cd938d65",
   "metadata": {},
   "outputs": [],
   "source": [
    "datadir='../Datasets/'"
   ]
  },
  {
   "cell_type": "markdown",
   "id": "81c4a7bd",
   "metadata": {},
   "source": [
    "### Problem 1\n",
    "Find the top 5 ranked airports (with respect to the degree centrality) in the state of New York. Present results in the same form as Table 3.3."
   ]
  },
  {
   "cell_type": "code",
   "execution_count": 10,
   "id": "46e8b560",
   "metadata": {},
   "outputs": [],
   "source": [
    "## read edges and make graph\n",
    "airports_df = pd.read_csv(datadir+'Airport/connections.csv')\n",
    "tuples = [tuple(x) for x in airports_df.values]\n",
    "ga = ig.Graph.TupleList(tuples, directed = True, edge_attrs = [\"weight\"])\n",
    "\n",
    "loc_df = pd.read_csv(datadir+'Airport/airports_loc.csv')\n",
    "ny_airports = loc_df.loc[loc_df['state']=='NY']\n",
    "ny_ap_names = ny_airports['airport'].tolist()\n",
    "\n",
    "## subgraph induced by all airports from New York\n",
    "ga_ny = ga.subgraph([v for v in ga.vs() if v['name'] in ny_ap_names])\n",
    "ga_ny = ga_ny.simplify(multiple=False)"
   ]
  },
  {
   "cell_type": "markdown",
   "id": "52a33ef8",
   "metadata": {},
   "source": [
    "The following cell contains code from the Chapter 3 notebook on GitHub to produce Table 3.3 for NY "
   ]
  },
  {
   "cell_type": "code",
   "execution_count": 11,
   "id": "701730b7",
   "metadata": {},
   "outputs": [
    {
     "data": {
      "text/html": [
       "<div>\n",
       "<style scoped>\n",
       "    .dataframe tbody tr th:only-of-type {\n",
       "        vertical-align: middle;\n",
       "    }\n",
       "\n",
       "    .dataframe tbody tr th {\n",
       "        vertical-align: top;\n",
       "    }\n",
       "\n",
       "    .dataframe thead th {\n",
       "        text-align: right;\n",
       "    }\n",
       "</style>\n",
       "<table border=\"1\" class=\"dataframe\">\n",
       "  <thead>\n",
       "    <tr style=\"text-align: right;\">\n",
       "      <th></th>\n",
       "      <th>airport</th>\n",
       "      <th>degree</th>\n",
       "      <th>pagerank</th>\n",
       "      <th>authority</th>\n",
       "      <th>hub</th>\n",
       "      <th>between</th>\n",
       "      <th>closeness</th>\n",
       "    </tr>\n",
       "  </thead>\n",
       "  <tbody>\n",
       "    <tr>\n",
       "      <th>0</th>\n",
       "      <td>JFK</td>\n",
       "      <td>0.129844</td>\n",
       "      <td>0.327600</td>\n",
       "      <td>1.000000</td>\n",
       "      <td>0.373760</td>\n",
       "      <td>0.356250</td>\n",
       "      <td>0.705882</td>\n",
       "    </tr>\n",
       "    <tr>\n",
       "      <th>2</th>\n",
       "      <td>BUF</td>\n",
       "      <td>0.076222</td>\n",
       "      <td>0.187068</td>\n",
       "      <td>0.261299</td>\n",
       "      <td>1.000000</td>\n",
       "      <td>0.092361</td>\n",
       "      <td>0.705882</td>\n",
       "    </tr>\n",
       "    <tr>\n",
       "      <th>4</th>\n",
       "      <td>ROC</td>\n",
       "      <td>0.041181</td>\n",
       "      <td>0.104605</td>\n",
       "      <td>0.141841</td>\n",
       "      <td>0.546989</td>\n",
       "      <td>0.000000</td>\n",
       "      <td>0.631579</td>\n",
       "    </tr>\n",
       "    <tr>\n",
       "      <th>5</th>\n",
       "      <td>SYR</td>\n",
       "      <td>0.033720</td>\n",
       "      <td>0.092834</td>\n",
       "      <td>0.113975</td>\n",
       "      <td>0.459400</td>\n",
       "      <td>0.134028</td>\n",
       "      <td>0.750000</td>\n",
       "    </tr>\n",
       "    <tr>\n",
       "      <th>1</th>\n",
       "      <td>LGA</td>\n",
       "      <td>0.030008</td>\n",
       "      <td>0.103534</td>\n",
       "      <td>0.213367</td>\n",
       "      <td>0.078989</td>\n",
       "      <td>0.157639</td>\n",
       "      <td>0.750000</td>\n",
       "    </tr>\n",
       "  </tbody>\n",
       "</table>\n",
       "</div>"
      ],
      "text/plain": [
       "  airport    degree  pagerank  authority       hub   between  closeness\n",
       "0     JFK  0.129844  0.327600   1.000000  0.373760  0.356250   0.705882\n",
       "2     BUF  0.076222  0.187068   0.261299  1.000000  0.092361   0.705882\n",
       "4     ROC  0.041181  0.104605   0.141841  0.546989  0.000000   0.631579\n",
       "5     SYR  0.033720  0.092834   0.113975  0.459400  0.134028   0.750000\n",
       "1     LGA  0.030008  0.103534   0.213367  0.078989  0.157639   0.750000"
      ]
     },
     "execution_count": 11,
     "metadata": {},
     "output_type": "execute_result"
    }
   ],
   "source": [
    "## compute normalized weights \n",
    "mw = np.max(ga_ny.es['weight'])\n",
    "ga_ny.es()['normalized_weight'] = [w/mw for w in ga_ny.es()['weight']]\n",
    "\n",
    "## total degree centrality \n",
    "def degree_centrality(g, weights=None):\n",
    "    n = g.vcount()\n",
    "    if g.is_directed():\n",
    "        dc = [sum(x)/(2*(n-1)) for x in zip(g.strength(mode='in',weights=weights),\\\n",
    "              g.strength(mode='out',weights=weights))]\n",
    "    else:\n",
    "        dc = [x/(n-1) for x in g.strength(weights=weights)]\n",
    "    return dc\n",
    "\n",
    "## compute same centrality measures for the NY subgraph as Table 3.3\n",
    "df = pd.DataFrame({'airport':ga_ny.vs()['name'],\\\n",
    "                  'degree':degree_centrality(ga_ny,weights='normalized_weight'),\\\n",
    "                  'pagerank':ga_ny.pagerank(weights='weight'),'authority':ga_ny.authority_score(weights='weight'),\\\n",
    "                  'hub':ga_ny.hub_score(weights='weight'),'between':ga_ny.betweenness(),\\\n",
    "                  'closeness':ga_ny.closeness()})\n",
    "\n",
    "## normalize betweenness\n",
    "n = ga_ny.vcount()\n",
    "df['between'] = [2*x/((n-1)*(n-2)) for x in df['between']]\n",
    "\n",
    "## sort w.r.t. degree centrality, look at top airports\n",
    "df = df.sort_values(by='degree', ascending=False)\n",
    "df.head()"
   ]
  },
  {
   "cell_type": "markdown",
   "id": "32526ff4",
   "metadata": {},
   "source": [
    "### Problem 2\n",
    "Generate Chung-Lu graph $\\mathcal{G}(\\mathbf{w})$ on $n = 10\\,000$ nodes and power-law degree distribution using the set of weights prescribed by (2.6) with $\\gamma = 2.5$, $\\delta = 1$ and $\\Delta=\\sqrt{n} = 100$. For each centrality measure (degree, pagerank, authority, hub, between, closeness) compute $f(k)$, the average centrality measure over all nodes of degree $k$. Plot $f(k)$ as a function of $k$. Is there any visible correlation between a given centrality measure and the degree of a node?"
   ]
  },
  {
   "cell_type": "markdown",
   "id": "118a4d47",
   "metadata": {},
   "source": [
    "The following cell contains code for generating Chung-Lu graphs from the Chapter 2 Notebook"
   ]
  },
  {
   "cell_type": "code",
   "execution_count": 3,
   "id": "5e1fe865",
   "metadata": {},
   "outputs": [],
   "source": [
    "## fast Chung-Lu: generate m edges w.r.t. distribution d\n",
    "def fastCL(d, m):\n",
    "    n = len(d)\n",
    "    s = np.sum(d)\n",
    "    p = [i/s for i in d]\n",
    "    target = m\n",
    "    tples = []\n",
    "    ## generate edges (tuples), drop collisions, until m edges are obtained.\n",
    "    while len(tples) < target:\n",
    "        s = target - len(tples)\n",
    "        e0 = np.random.choice(n, size=s, replace=True, p=p)\n",
    "        e1 = np.random.choice(n, size=s, replace=True, p=p)\n",
    "        tples.extend([(min(e0[i],e1[i]),max(e0[i],e1[i])) for i in range(len(e0)) if e0[i]!=e1[i]]) ## ignore loops\n",
    "        tples = list(set(tples)) ## drop collisions\n",
    "    return tples"
   ]
  },
  {
   "cell_type": "code",
   "execution_count": 53,
   "id": "9d86d2d7",
   "metadata": {},
   "outputs": [
    {
     "data": {
      "text/html": [
       "<div>\n",
       "<style scoped>\n",
       "    .dataframe tbody tr th:only-of-type {\n",
       "        vertical-align: middle;\n",
       "    }\n",
       "\n",
       "    .dataframe tbody tr th {\n",
       "        vertical-align: top;\n",
       "    }\n",
       "\n",
       "    .dataframe thead th {\n",
       "        text-align: right;\n",
       "    }\n",
       "</style>\n",
       "<table border=\"1\" class=\"dataframe\">\n",
       "  <thead>\n",
       "    <tr style=\"text-align: right;\">\n",
       "      <th></th>\n",
       "      <th>k</th>\n",
       "      <th>degree</th>\n",
       "      <th>pagerank</th>\n",
       "      <th>authority</th>\n",
       "      <th>hub</th>\n",
       "      <th>between</th>\n",
       "      <th>closeness</th>\n",
       "    </tr>\n",
       "  </thead>\n",
       "  <tbody>\n",
       "    <tr>\n",
       "      <th>0</th>\n",
       "      <td>5</td>\n",
       "      <td>0.000616</td>\n",
       "      <td>0.000163</td>\n",
       "      <td>0.012506</td>\n",
       "      <td>0.012506</td>\n",
       "      <td>0.000519</td>\n",
       "      <td>0.198447</td>\n",
       "    </tr>\n",
       "    <tr>\n",
       "      <th>1</th>\n",
       "      <td>3</td>\n",
       "      <td>0.000370</td>\n",
       "      <td>0.000106</td>\n",
       "      <td>0.002436</td>\n",
       "      <td>0.002436</td>\n",
       "      <td>0.000137</td>\n",
       "      <td>0.178711</td>\n",
       "    </tr>\n",
       "    <tr>\n",
       "      <th>2</th>\n",
       "      <td>3</td>\n",
       "      <td>0.000370</td>\n",
       "      <td>0.000126</td>\n",
       "      <td>0.002571</td>\n",
       "      <td>0.002571</td>\n",
       "      <td>0.000286</td>\n",
       "      <td>0.177434</td>\n",
       "    </tr>\n",
       "    <tr>\n",
       "      <th>3</th>\n",
       "      <td>1</td>\n",
       "      <td>0.000123</td>\n",
       "      <td>0.000054</td>\n",
       "      <td>0.000192</td>\n",
       "      <td>0.000192</td>\n",
       "      <td>0.000000</td>\n",
       "      <td>0.150698</td>\n",
       "    </tr>\n",
       "    <tr>\n",
       "      <th>4</th>\n",
       "      <td>5</td>\n",
       "      <td>0.000616</td>\n",
       "      <td>0.000184</td>\n",
       "      <td>0.003998</td>\n",
       "      <td>0.003998</td>\n",
       "      <td>0.000598</td>\n",
       "      <td>0.181102</td>\n",
       "    </tr>\n",
       "  </tbody>\n",
       "</table>\n",
       "</div>"
      ],
      "text/plain": [
       "   k    degree  pagerank  authority       hub   between  closeness\n",
       "0  5  0.000616  0.000163   0.012506  0.012506  0.000519   0.198447\n",
       "1  3  0.000370  0.000106   0.002436  0.002436  0.000137   0.178711\n",
       "2  3  0.000370  0.000126   0.002571  0.002571  0.000286   0.177434\n",
       "3  1  0.000123  0.000054   0.000192  0.000192  0.000000   0.150698\n",
       "4  5  0.000616  0.000184   0.003998  0.003998  0.000598   0.181102"
      ]
     },
     "execution_count": 53,
     "metadata": {},
     "output_type": "execute_result"
    }
   ],
   "source": [
    "n = 10000\n",
    "gamma = 2.5\n",
    "delta = 1\n",
    "Delta = 100\n",
    "\n",
    "i = np.arange(1, n+1)\n",
    "deg = delta * np.power(n/(i-1+n/(Delta/delta)**(gamma-1)), 1/(gamma-1))\n",
    "m = int(np.mean(deg)*n/2)\n",
    "tuples = fastCL(deg,m)\n",
    "G = ig.Graph.TupleList(tuples)\n",
    "k = G.degree()\n",
    "\n",
    "df = pd.DataFrame({'k':k,'degree':degree_centrality(G),'pagerank':G.pagerank(),'authority':G.authority_score(),\\\n",
    "                  'hub':G.hub_score(),'between':G.betweenness(),'closeness':G.closeness()})\n",
    "\n",
    "## normalize betweenness\n",
    "n = G.vcount()\n",
    "df['between'] = [2*x/((n-1)*(n-2)) for x in df['between']]\n",
    "\n",
    "df.head()"
   ]
  },
  {
   "cell_type": "code",
   "execution_count": 54,
   "id": "7ddda17e",
   "metadata": {},
   "outputs": [
    {
     "data": {
      "image/png": "[encoded data removed]",
      "text/plain": [
       "<Figure size 432x288 with 6 Axes>"
      ]
     },
     "metadata": {
      "needs_background": "light"
     },
     "output_type": "display_data"
    }
   ],
   "source": [
    "k_unique = np.unique(k)\n",
    "\n",
    "centrality_measures = np.zeros([len(k_unique), 6])\n",
    "\n",
    "for i in range(len(k_unique)):\n",
    "    df1 = df.loc[df['k'] == k_unique[i]]\n",
    "    averages = df1.mean(axis=0).to_numpy()\n",
    "    centrality_measures[i] = averages[1:]\n",
    "    \n",
    "fig, axs = plt.subplots(6, 1)\n",
    "    \n",
    "axs[0].set_title(\"Centrality measures and their dependence on $k$\")\n",
    "axs[0].plot(k_unique, centrality_measures[:,0])\n",
    "axs[0].set_ylabel(\"Deg\")\n",
    "axs[1].plot(k_unique, centrality_measures[:,1])\n",
    "axs[1].set_ylabel(\"PR\")\n",
    "axs[2].plot(k_unique, centrality_measures[:,2])\n",
    "axs[2].set_ylabel(\"Auth\")\n",
    "axs[3].plot(k_unique, centrality_measures[:,3])\n",
    "axs[3].set_ylabel(\"Hub\")\n",
    "axs[4].plot(k_unique, centrality_measures[:,4])\n",
    "axs[4].set_ylabel(\"Btwn\")\n",
    "axs[5].plot(k_unique, centrality_measures[:,5])\n",
    "axs[5].set_ylabel(\"Close\")\n",
    "axs[5].set_xlabel(\"k\")\n",
    "plt.show()"
   ]
  },
  {
   "cell_type": "markdown",
   "id": "2c5e8fa6",
   "metadata": {},
   "source": [
    "$f(k)$ appears to be positively correlated with $k$."
   ]
  },
  {
   "cell_type": "markdown",
   "id": "121c3bec",
   "metadata": {},
   "source": [
    "### Problem 3\n",
    "The original airport dataset is not strongly connected but it is almost weakly connected. There are two weak components: the giant one consisting of all but two airports, and the small one with two airports that only link to each other. Remove the two nodes to make the graph weakly connected. For each centrality measure (degree, pagerank, authority, hub, between, closeness) perform the following experiment: sort all nodes with respect to a given centrality measure. How many nodes with the largest score do we need to remove so that the graph is no longer weakly connected? Compare this with the number of nodes with the smallest score that need to be removed. "
   ]
  },
  {
   "cell_type": "code",
   "execution_count": 114,
   "id": "60b08828",
   "metadata": {
    "scrolled": true
   },
   "outputs": [
    {
     "name": "stdout",
     "output_type": "stream",
     "text": [
      "Removing 2 nodes with the highest degree centrality scores produces a disconnected graph.\n",
      "Removing 149 nodes with the lowest degree centrality scores produces a disconnected graph.\n",
      "Removing 2 nodes with the highest pagerank centrality scores produces a disconnected graph.\n",
      "Removing 162 nodes with the lowest pagerank centrality scores produces a disconnected graph.\n",
      "Removing 2 nodes with the highest authority centrality scores produces a disconnected graph.\n",
      "Removing 6 nodes with the lowest authority centrality scores produces a disconnected graph.\n",
      "Removing 2 nodes with the highest hub centrality scores produces a disconnected graph.\n",
      "Removing 432 nodes with the lowest hub centrality scores produces a disconnected graph.\n",
      "Removing 5 nodes with the highest between centrality scores produces a disconnected graph.\n",
      "Removing 432 nodes with the lowest between centrality scores produces a disconnected graph.\n",
      "Removing 1 nodes with the highest closeness centrality scores produces a disconnected graph.\n",
      "Removing 432 nodes with the lowest closeness centrality scores produces a disconnected graph.\n"
     ]
    }
   ],
   "source": [
    "## read edges and make graph\n",
    "airports_df = pd.read_csv(datadir+'Airport/connections.csv')\n",
    "tuples = [tuple(x) for x in airports_df.values]\n",
    "ga = ig.Graph.TupleList(tuples, directed = True, edge_attrs = [\"weight\"])\n",
    "\n",
    "## remove the two airports that link only to each other\n",
    "ga = ga.subgraph([v for v in ga.vs() if len(ga.neighbors(v, mode='all'))>1])\n",
    "\n",
    "## compute normalized weights \n",
    "mw = np.max(ga.es['weight'])\n",
    "ga.es()['normalized_weight'] = [w/mw for w in ga.es()['weight']]\n",
    "\n",
    "df = pd.DataFrame({'airport':ga.vs()['name'],\\\n",
    "                  'degree':degree_centrality(ga,weights='normalized_weight'),\\\n",
    "                  'pagerank':ga.pagerank(weights='weight'),'authority':ga.authority_score(weights='weight'),\\\n",
    "                  'hub':ga.hub_score(weights='weight'),'between':ga.betweenness(),\\\n",
    "                  'closeness':ga.closeness()})\n",
    "\n",
    "## normalize betweenness\n",
    "n = ga.vcount()\n",
    "df['between'] = [2*x/((n-1)*(n-2)) for x in df['between']]\n",
    "\n",
    "## function which implements node deletion and checks for connectivity of graph\n",
    "def disconnect_graph(G, node_list, centrality_measure, high_to_low=True):\n",
    "    \n",
    "    G_copy = deepcopy(G)\n",
    "    \n",
    "    delete_list = []\n",
    "    while G_copy.is_connected(mode='weak'):\n",
    "        \n",
    "        G_copy = deepcopy(G)\n",
    "        \n",
    "        if high_to_low:\n",
    "            delete_list.append(node_list.pop(0))\n",
    "        else:\n",
    "            delete_list.append(node_list.pop(-1))\n",
    "           \n",
    "        G_copy.delete_vertices(delete_list)\n",
    "        \n",
    "    if high_to_low:\n",
    "        print(\"Removing {0} nodes with the highest {1} centrality scores produces a disconnected graph.\".format(len(delete_list), centrality_measure))\n",
    "    else:\n",
    "        print(\"Removing {0} nodes with the lowest {1} centrality scores produces a disconnected graph.\".format(len(delete_list), centrality_measure))\n",
    "    \n",
    "centralities = ['degree', 'pagerank', 'authority', 'hub', 'between', 'closeness']\n",
    "\n",
    "for c in centralities:\n",
    "\n",
    "    ## sort w.r.t. degree centrality, look at top airports\n",
    "    df = df.sort_values(by=c, ascending=False)\n",
    "    node_list = df.index.tolist()\n",
    "    disconnect_graph(ga, deepcopy(node_list), c, True)\n",
    "    disconnect_graph(ga, deepcopy(node_list), c, False)\n"
   ]
  },
  {
   "cell_type": "markdown",
   "id": "b56344ef",
   "metadata": {},
   "source": [
    "### Problem 5\n",
    "From the airport graph, generate a state-to-state graph by collapsing every node in a state to a single node, adding the edge weights and removing loops. Let $G$ be this new graph. "
   ]
  },
  {
   "cell_type": "code",
   "execution_count": 147,
   "id": "0b6d369e",
   "metadata": {},
   "outputs": [],
   "source": [
    "loc_df = pd.read_csv(datadir+'Airport/airports_loc.csv')\n",
    "state_list = np.unique(loc_df[\"state\"].to_numpy())"
   ]
  },
  {
   "cell_type": "code",
   "execution_count": 148,
   "id": "19eb0751",
   "metadata": {},
   "outputs": [],
   "source": [
    "for i in range(len(state_list)):\n",
    "    local_airports = loc_df.loc[loc_df['state']==state_list[i]]\n",
    "    local_names = local_airports['airport'].tolist()\n",
    "    \n",
    "    for v in ga.vs():\n",
    "        if v['name'] in local_names:\n",
    "            v['state_name'] = state_list[i]\n",
    "            v['state_id'] = i\n",
    "\n",
    "mapping = ga.vs['state_id']\n",
    "ga.vs['name'] = ga.vs['state_name']\n",
    "\n",
    "ga.contract_vertices(mapping, combine_attrs='first')\n",
    "\n",
    "ga = ga.simplify(multiple=True, loops=True, combine_edges=sum)"
   ]
  },
  {
   "cell_type": "markdown",
   "id": "600e07bf",
   "metadata": {},
   "source": [
    "1. Is $G$ weakly connected? Strongly connected?\n"
   ]
  },
  {
   "cell_type": "code",
   "execution_count": 149,
   "id": "9c14c502",
   "metadata": {},
   "outputs": [
    {
     "name": "stdout",
     "output_type": "stream",
     "text": [
      "Is G weakly connected?  True\n",
      "Is G strongly connected?  True\n"
     ]
    }
   ],
   "source": [
    "print(\"Is G weakly connected? \", ga.is_connected(mode='weak'))\n",
    "print(\"Is G strongly connected? \", ga.is_connected(mode='strong'))"
   ]
  },
  {
   "cell_type": "markdown",
   "id": "c382ab62",
   "metadata": {},
   "source": [
    "2. Which state has the most incoming passengers? The most departing passengers?\n"
   ]
  },
  {
   "cell_type": "code",
   "execution_count": 150,
   "id": "7f1bc713",
   "metadata": {},
   "outputs": [
    {
     "name": "stdout",
     "output_type": "stream",
     "text": [
      "State with the most incoming passengers:  CA\n",
      "State with the most departing passengers:  CA\n"
     ]
    }
   ],
   "source": [
    "deg_in = np.array(ga.strength(mode='in', weights=\"weight\"))\n",
    "max_in = np.argmax(deg_in)\n",
    "print(\"State with the most incoming passengers: \", ga.vs['name'][max_in])\n",
    "deg_out = np.array(ga.strength(mode='out', weights=\"weight\"))\n",
    "max_out = np.argmax(deg_out)\n",
    "print(\"State with the most departing passengers: \", ga.vs['name'][max_out])"
   ]
  },
  {
   "cell_type": "markdown",
   "id": "8d1e54f2",
   "metadata": {},
   "source": [
    "3. Which pair of two states, $x$ and $y$, have the most passengers travelling from $x$ to $y$?\n"
   ]
  },
  {
   "cell_type": "code",
   "execution_count": 151,
   "id": "a6cbdb04",
   "metadata": {},
   "outputs": [
    {
     "name": "stdout",
     "output_type": "stream",
     "text": [
      "FL and GA have the most passengers traveling from FL to GA\n"
     ]
    }
   ],
   "source": [
    "max_weight = 0\n",
    "state1 = None\n",
    "state2 = None\n",
    "for v in ga.vs():\n",
    "    neighbourlist = ga.neighbors(v)\n",
    "    for u in neighbourlist:\n",
    "        weight = ga.es[ga.get_eid(v, ga.vs[u], directed=True)]['weight']\n",
    "        if weight > max_weight:\n",
    "            max_weight = weight\n",
    "            state1 = v['name']\n",
    "            state2 = ga.vs[u]['name']\n",
    "print(\"{0} and {1} have the most passengers traveling from {0} to {1}\".format(state1, state2))"
   ]
  },
  {
   "cell_type": "markdown",
   "id": "fe7dd0b1",
   "metadata": {},
   "source": [
    "4. Recreate Table 3.3 for graph $G$. Which states have the highest degree centrality? Betweenness centrality?"
   ]
  },
  {
   "cell_type": "code",
   "execution_count": 137,
   "id": "b9d2808e",
   "metadata": {},
   "outputs": [
    {
     "data": {
      "text/html": [
       "<div>\n",
       "<style scoped>\n",
       "    .dataframe tbody tr th:only-of-type {\n",
       "        vertical-align: middle;\n",
       "    }\n",
       "\n",
       "    .dataframe tbody tr th {\n",
       "        vertical-align: top;\n",
       "    }\n",
       "\n",
       "    .dataframe thead th {\n",
       "        text-align: right;\n",
       "    }\n",
       "</style>\n",
       "<table border=\"1\" class=\"dataframe\">\n",
       "  <thead>\n",
       "    <tr style=\"text-align: right;\">\n",
       "      <th></th>\n",
       "      <th>airport</th>\n",
       "      <th>degree</th>\n",
       "      <th>pagerank</th>\n",
       "      <th>authority</th>\n",
       "      <th>hub</th>\n",
       "      <th>between</th>\n",
       "      <th>closeness</th>\n",
       "    </tr>\n",
       "  </thead>\n",
       "  <tbody>\n",
       "    <tr>\n",
       "      <th>4</th>\n",
       "      <td>CA</td>\n",
       "      <td>0.135169</td>\n",
       "      <td>0.075945</td>\n",
       "      <td>0.969776</td>\n",
       "      <td>0.971339</td>\n",
       "      <td>0.021798</td>\n",
       "      <td>0.943396</td>\n",
       "    </tr>\n",
       "    <tr>\n",
       "      <th>9</th>\n",
       "      <td>FL</td>\n",
       "      <td>0.131269</td>\n",
       "      <td>0.073844</td>\n",
       "      <td>1.000000</td>\n",
       "      <td>1.000000</td>\n",
       "      <td>0.025406</td>\n",
       "      <td>0.943396</td>\n",
       "    </tr>\n",
       "    <tr>\n",
       "      <th>43</th>\n",
       "      <td>TX</td>\n",
       "      <td>0.130073</td>\n",
       "      <td>0.077688</td>\n",
       "      <td>0.925013</td>\n",
       "      <td>0.925351</td>\n",
       "      <td>0.028128</td>\n",
       "      <td>0.980392</td>\n",
       "    </tr>\n",
       "    <tr>\n",
       "      <th>10</th>\n",
       "      <td>GA</td>\n",
       "      <td>0.107684</td>\n",
       "      <td>0.064350</td>\n",
       "      <td>0.829181</td>\n",
       "      <td>0.827263</td>\n",
       "      <td>0.024257</td>\n",
       "      <td>0.961538</td>\n",
       "    </tr>\n",
       "    <tr>\n",
       "      <th>14</th>\n",
       "      <td>IL</td>\n",
       "      <td>0.104197</td>\n",
       "      <td>0.063423</td>\n",
       "      <td>0.743699</td>\n",
       "      <td>0.742924</td>\n",
       "      <td>0.037450</td>\n",
       "      <td>1.000000</td>\n",
       "    </tr>\n",
       "  </tbody>\n",
       "</table>\n",
       "</div>"
      ],
      "text/plain": [
       "   airport    degree  pagerank  authority       hub   between  closeness\n",
       "4       CA  0.135169  0.075945   0.969776  0.971339  0.021798   0.943396\n",
       "9       FL  0.131269  0.073844   1.000000  1.000000  0.025406   0.943396\n",
       "43      TX  0.130073  0.077688   0.925013  0.925351  0.028128   0.980392\n",
       "10      GA  0.107684  0.064350   0.829181  0.827263  0.024257   0.961538\n",
       "14      IL  0.104197  0.063423   0.743699  0.742924  0.037450   1.000000"
      ]
     },
     "execution_count": 137,
     "metadata": {},
     "output_type": "execute_result"
    }
   ],
   "source": [
    "## compute normalized weights \n",
    "mw = np.max(ga.es['weight'])\n",
    "ga.es()['normalized_weight'] = [w/mw for w in ga.es()['weight']]\n",
    "\n",
    "## compute same centrality measures for the NY subgraph as Table 3.3\n",
    "df = pd.DataFrame({'airport':ga.vs()['name'],\\\n",
    "                  'degree':degree_centrality(ga,weights='normalized_weight'),\\\n",
    "                  'pagerank':ga.pagerank(weights='weight'),'authority':ga.authority_score(weights='weight'),\\\n",
    "                  'hub':ga.hub_score(weights='weight'),'between':ga.betweenness(),\\\n",
    "                  'closeness':ga.closeness()})\n",
    "\n",
    "## normalize betweenness\n",
    "n = ga.vcount()\n",
    "df['between'] = [2*x/((n-1)*(n-2)) for x in df['between']]\n",
    "\n",
    "## sort w.r.t. degree centrality, look at top airports\n",
    "df = df.sort_values(by='degree', ascending=False)\n",
    "df.head()"
   ]
  },
  {
   "cell_type": "code",
   "execution_count": 138,
   "id": "787fe8d4",
   "metadata": {},
   "outputs": [
    {
     "data": {
      "text/html": [
       "<div>\n",
       "<style scoped>\n",
       "    .dataframe tbody tr th:only-of-type {\n",
       "        vertical-align: middle;\n",
       "    }\n",
       "\n",
       "    .dataframe tbody tr th {\n",
       "        vertical-align: top;\n",
       "    }\n",
       "\n",
       "    .dataframe thead th {\n",
       "        text-align: right;\n",
       "    }\n",
       "</style>\n",
       "<table border=\"1\" class=\"dataframe\">\n",
       "  <thead>\n",
       "    <tr style=\"text-align: right;\">\n",
       "      <th></th>\n",
       "      <th>airport</th>\n",
       "      <th>degree</th>\n",
       "      <th>pagerank</th>\n",
       "      <th>authority</th>\n",
       "      <th>hub</th>\n",
       "      <th>between</th>\n",
       "      <th>closeness</th>\n",
       "    </tr>\n",
       "  </thead>\n",
       "  <tbody>\n",
       "    <tr>\n",
       "      <th>14</th>\n",
       "      <td>IL</td>\n",
       "      <td>0.104197</td>\n",
       "      <td>0.063423</td>\n",
       "      <td>0.743699</td>\n",
       "      <td>0.742924</td>\n",
       "      <td>0.037450</td>\n",
       "      <td>1.000000</td>\n",
       "    </tr>\n",
       "    <tr>\n",
       "      <th>35</th>\n",
       "      <td>OH</td>\n",
       "      <td>0.047637</td>\n",
       "      <td>0.030171</td>\n",
       "      <td>0.362872</td>\n",
       "      <td>0.363208</td>\n",
       "      <td>0.030658</td>\n",
       "      <td>0.980392</td>\n",
       "    </tr>\n",
       "    <tr>\n",
       "      <th>43</th>\n",
       "      <td>TX</td>\n",
       "      <td>0.130073</td>\n",
       "      <td>0.077688</td>\n",
       "      <td>0.925013</td>\n",
       "      <td>0.925351</td>\n",
       "      <td>0.028128</td>\n",
       "      <td>0.980392</td>\n",
       "    </tr>\n",
       "    <tr>\n",
       "      <th>23</th>\n",
       "      <td>MN</td>\n",
       "      <td>0.042512</td>\n",
       "      <td>0.031069</td>\n",
       "      <td>0.284189</td>\n",
       "      <td>0.284231</td>\n",
       "      <td>0.026444</td>\n",
       "      <td>0.961538</td>\n",
       "    </tr>\n",
       "    <tr>\n",
       "      <th>7</th>\n",
       "      <td>DC</td>\n",
       "      <td>0.048661</td>\n",
       "      <td>0.030077</td>\n",
       "      <td>0.418860</td>\n",
       "      <td>0.418279</td>\n",
       "      <td>0.026230</td>\n",
       "      <td>0.980392</td>\n",
       "    </tr>\n",
       "  </tbody>\n",
       "</table>\n",
       "</div>"
      ],
      "text/plain": [
       "   airport    degree  pagerank  authority       hub   between  closeness\n",
       "14      IL  0.104197  0.063423   0.743699  0.742924  0.037450   1.000000\n",
       "35      OH  0.047637  0.030171   0.362872  0.363208  0.030658   0.980392\n",
       "43      TX  0.130073  0.077688   0.925013  0.925351  0.028128   0.980392\n",
       "23      MN  0.042512  0.031069   0.284189  0.284231  0.026444   0.961538\n",
       "7       DC  0.048661  0.030077   0.418860  0.418279  0.026230   0.980392"
      ]
     },
     "execution_count": 138,
     "metadata": {},
     "output_type": "execute_result"
    }
   ],
   "source": [
    "## sort w.r.t. betweennes centrality, look at top airports\n",
    "df = df.sort_values(by='between', ascending=False)\n",
    "df.head()"
   ]
  },
  {
   "cell_type": "markdown",
   "id": "267829f7",
   "metadata": {},
   "source": [
    "California has the highest degree centrality. Illinois has the highest betweenness centrality. "
   ]
  }
 ],
 "metadata": {
  "kernelspec": {
   "display_name": "Python 3",
   "language": "python",
   "name": "python3"
  },
  "language_info": {
   "codemirror_mode": {
    "name": "ipython",
    "version": 3
   },
   "file_extension": ".py",
   "mimetype": "text/x-python",
   "name": "python",
   "nbconvert_exporter": "python",
   "pygments_lexer": "ipython3",
   "version": "3.7.11"
  }
 },
 "nbformat": 4,
 "nbformat_minor": 5
}
